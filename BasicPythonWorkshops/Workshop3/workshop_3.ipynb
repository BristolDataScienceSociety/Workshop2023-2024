{
  "nbformat": 4,
  "nbformat_minor": 0,
  "metadata": {
    "colab": {
      "provenance": []
    },
    "kernelspec": {
      "name": "python3",
      "display_name": "Python 3"
    },
    "language_info": {
      "name": "python"
    }
  },
  "cells": [
    {
      "cell_type": "markdown",
      "source": [
        "# **PYTHONG WORKSHOP 3**\n",
        "\n",
        "## *Why NumPy?*\n",
        "It offers data structures that are much faster compared to their python counter parts.\n",
        "\n",
        "\n"
      ],
      "metadata": {
        "id": "CGVBjsVravgP"
      }
    },
    {
      "cell_type": "code",
      "execution_count": null,
      "metadata": {
        "colab": {
          "base_uri": "https://localhost:8080/"
        },
        "id": "KVS0E9L_auJJ",
        "outputId": "99356fcb-9b7a-403d-c654-2bccdf4d0f7e"
      },
      "outputs": [
        {
          "output_type": "stream",
          "name": "stdout",
          "text": [
            "<class 'list'>\n",
            "sum_native_python took 0.00866 seconds to execute.\n",
            "<class 'numpy.ndarray'>\n",
            "sum_numpy took 0.00108 seconds to execute.\n"
          ]
        }
      ],
      "source": [
        "import time\n",
        "import numpy as np\n",
        "\n",
        "def time_logger(func):\n",
        "    \"\"\"\n",
        "    A decorator function to log the time a function takes to execute.\n",
        "    \"\"\"\n",
        "    def wrapper(*args, **kwargs):\n",
        "        start_time = time.time()\n",
        "        result = func(*args, **kwargs)\n",
        "        end_time = time.time()\n",
        "        print(f\"{func.__name__} took {end_time - start_time:.5f} seconds to execute.\")\n",
        "    return wrapper\n",
        "\n",
        "@time_logger\n",
        "def sum_native_python(numbers: list[int]) -> int:\n",
        "    \"\"\"\n",
        "    Sums a list of numbers using native Python.\n",
        "    \"\"\"\n",
        "    return sum(numbers)\n",
        "\n",
        "@time_logger\n",
        "def sum_numpy(numbers: np.array) -> np.float64:\n",
        "    \"\"\"\n",
        "    Sums an array of numbers using NumPy.\n",
        "    \"\"\"\n",
        "    return np.sum(numbers)\n",
        "\n",
        "# creating test data\n",
        "large_list = list(range(1, 1000000))\n",
        "large_array = np.array(large_list)\n",
        "\n",
        "# NOTE the different types\n",
        "# Compare the performance\n",
        "print(type(large_list))\n",
        "sum_native_python(large_list)\n",
        "print(type(large_array))\n",
        "sum_numpy(large_array)\n",
        "\n"
      ]
    },
    {
      "cell_type": "markdown",
      "source": [
        "## *Why is NumPy Faster?*\n",
        "1.   Implementation of the data structure is often written done in C\n",
        "2.   In NumPy, operations are vectorized where as native Python iterats over elements, which is inherently slower.\n",
        "3. Numpy uses Dynamic Arrays where each element is stored contiguously (in other words write next to each other in memory). Python lists use an Array of pointers which means the machine has to follow each pointer to where the data is stored.\n",
        "\n",
        "![array_diagram.png](data:image/png;base64,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)"
      ],
      "metadata": {
        "id": "oV9KxIltcWng"
      }
    },
    {
      "cell_type": "markdown",
      "source": [
        "## Creating Arrays\n",
        "NumPy offers a variety of ways to make arrays. Here's just a few."
      ],
      "metadata": {
        "id": "nUvBwG3if4U3"
      }
    },
    {
      "cell_type": "code",
      "source": [
        "import numpy as np\n",
        "\n",
        "# Creating an array from a given list of integers.\n",
        "print(np.array([1, 7, 7, 0, 1, 3]))  # Output: [1 7 7 0 1 3]\n",
        "\n",
        "# Creating an array of a specified size filled with zeros.\n",
        "print(np.zeros(6))  # Output: [0. 0. 0. 0. 0. 0.]\n",
        "\n",
        "# Creating an array of a specified size filled with ones.\n",
        "print(np.ones(6))  # Output: [1. 1. 1. 1. 1. 1.]\n",
        "\n",
        "# Creating an array of a specified size filled with random numbers uniformly distributed between 0 and 1.\n",
        "print(np.random.random(6))  # Output: Random numbers between 0 and 1\n",
        "\n",
        "# Creating an array of a specified size filled with random numbers that follow standard normal distribution (mean 0 and variance 1).\n",
        "print(np.random.randn(6))  # Output: Random numbers from a standard normal distribution\n",
        "\n",
        "# Creating an array with evenly spaced numbers over a specified interval.\n",
        "print(np.linspace(0, 6, 7))  # Output: [0. 1. 2. 3. 4. 5. 6.]\n",
        "\n",
        "# Creating an array with numbers spaced evenly on a linear scale.\n",
        "print(np.arange(0, 6, 1))  # Output: [0 1 2 3 4 5]\n"
      ],
      "metadata": {
        "colab": {
          "base_uri": "https://localhost:8080/"
        },
        "id": "Xy6UzD9acWSW",
        "outputId": "bfc0aa2f-4670-45b3-85a4-c948434e1fe8"
      },
      "execution_count": null,
      "outputs": [
        {
          "output_type": "stream",
          "name": "stdout",
          "text": [
            "[1 7 7 0 1 3]\n",
            "[0. 0. 0. 0. 0. 0.]\n",
            "[1. 1. 1. 1. 1. 1.]\n",
            "[0.70678416 0.77010169 0.57912905 0.01359521 0.86457409 0.89989845]\n",
            "[ 0.57866851  0.48167318  1.26070398  1.06667907  0.49266427 -0.12399266]\n",
            "[0. 1. 2. 3. 4. 5. 6.]\n",
            "[0 1 2 3 4 5]\n"
          ]
        }
      ]
    },
    {
      "cell_type": "markdown",
      "source": [
        "## Array Operations\n",
        "\n",
        "NumPy offers a wide range of operations for arrays, making it a powerful tool for numerical computations. Below are some key array operations categorized for clarity:\n",
        "\n",
        "### 1. Indexing\n",
        "Array indexing is the same as accessing an python list element.\n",
        "You can access an array element by referring to its index number. The indexes in NumPy arrays start with 0, meaning that the first element has index 0, and the second has index 1 etc.\n",
        "\n",
        "**Accessing Elements:** works much the same way as native python\n",
        "```python\n",
        "arr = np.array([1, 2, 3, 4])\n",
        "print(arr[0]) # accesing first value\n",
        "print(arr[-1]) # negative indexing\n",
        "```\n",
        "\n",
        "```\n",
        "1\n",
        "4\n",
        "```\n",
        "\n",
        "**Slicing Arrays:** Slicing elements from one given index to another given index.\n",
        "```python\n",
        "arr = np.array([1, 2, 3, 4, 5, 6, 7])\n",
        "print(arr[1:5:1]) #includes element 1 but not element 5 at a step of 1\n",
        "```\n",
        "\n",
        "```\n",
        "[2 3 4 5]\n",
        "```\n",
        "\n",
        "**Boolean filters:** you can use a boolean mask to filter out certain values\n",
        "```python\n",
        "arr = np.array([1, 2, 3, 4, 5, 6, 7])\n",
        "print(arr[arr > 3])  # arr > 3 would generate an array of True and False\n",
        "```\n",
        "\n",
        "```\n",
        "[ 4 5 6 7]\n",
        "```\n",
        "\n",
        "### 2. Basic Operations\n",
        "\n",
        "**Arithmetic Operations:**\n",
        "Perform element-wise arithmetic operations such as addition, subtraction, multiplication, and division.\n",
        "\n",
        "```python\n",
        "a = np.array([1, 2, 3])\n",
        "b = np.array([4, 5, 6])\n",
        "print(a + b)  # Element-wise addition\n",
        "print(a * b)  # Element-wise multiplication\n",
        "\n",
        "```\n",
        "\n",
        "```\n",
        "[5 7 9]\n",
        "[ 4 10 18]\n",
        "\n",
        "```\n",
        "\n",
        "**Broadcasting:**\n",
        "Allows operations between arrays of different shapes.\n",
        "\n",
        "```python\n",
        "a = np.array([1, 2, 3])\n",
        "print(a+2)\n",
        "print(a**2)\n",
        "print(a/10)\n",
        "\n",
        "```\n",
        "\n",
        "```\n",
        "[3 4 5]\n",
        "[1 4 9]\n",
        "[0.1 0.2 0.3]\n",
        "\n",
        "```\n",
        "\n",
        "**Aggregation Functions:** Compute summary statistics.\n",
        "\n",
        "```python\n",
        "print(a.sum())  # Sum of all elements in 'a'\n",
        "print(a.mean()) # Mean of all elements in 'a'\n",
        "```\n",
        "\n",
        "\n",
        "### 3. Shape Manipulation\n",
        "**Reshape:** Change the shape of an array without changing its data.\n",
        "\n",
        "```python\n",
        "a = np.array([1, 2, 3])\n",
        "print(np.reshape(a, (3, 1)))  # Reshape 'a' to a 3x1 array\n",
        "```\n",
        "```\n",
        "[[1]\n",
        " [2]\n",
        " [3]]\n",
        "```\n",
        "\n",
        "\n",
        "**Transpose:** Permute the dimensions of an array.\n",
        "```python\n",
        "print(a.T)  # Transpose of array 'a'\n",
        "```\n",
        "```\n",
        "[1 2 3]\n",
        "```\n",
        "\n",
        "Concatenation and Splitting: Combine multiple arrays and split one array into several parts.\n",
        "\n",
        "```python\n",
        "a = np.array([1, 2, 3])\n",
        "b = np.array([4, 5, 6])\n",
        "print(np.concatenate([a, b]))  # Concatenate 'a' and 'b'\n",
        "```\n",
        "\n",
        "```\n",
        "[1 2 3 4 5 6]\n",
        "```"
      ],
      "metadata": {
        "id": "JeTaonKBlJIz"
      }
    },
    {
      "cell_type": "markdown",
      "source": [
        "## **Statistical Functions**\n",
        "Statistical functions in NumPy are essential for data analysis. They include functions like `sum()`, `mean()`, `median()`, `std()`, `var()`, `min()`, `max()`, `argmin()`, `argmax()`, `cumsum()`, and more. These functions allow you to perform operations such as summing, averaging, finding standard deviation, variance, minimum, maximum, and cumulative sums on array elements. Refer to the code below for examples."
      ],
      "metadata": {
        "id": "_bbAhEi8ugeE"
      }
    },
    {
      "cell_type": "code",
      "source": [
        "import numpy as np\n",
        "\n",
        "# Generate a random dataset of 100 values with a mean of 50 and standard deviation of 10\n",
        "np.random.seed(0)\n",
        "dataset = np.random.normal(50, 10, 100)\n",
        "\n",
        "sum_value = np.sum(dataset)\n",
        "mean_value = np.mean(dataset)\n",
        "median_value = np.median(dataset)\n",
        "std_deviation = np.std(dataset)\n",
        "variance = np.var(dataset)\n",
        "min_value = np.min(dataset)\n",
        "max_value = np.max(dataset)\n",
        "argmin_index = np.argmin(dataset)\n",
        "argmax_index = np.argmax(dataset)\n",
        "cumulative_sum = np.cumsum(dataset)\n",
        "\n",
        "print(f\"Sum: {sum_value:.2f}\")\n",
        "print(f\"Mean: {mean_value:.2f}\")\n",
        "print(f\"Median: {median_value:.2f}\")\n",
        "print(f\"Standard Deviation: {std_deviation:.2f}\")\n",
        "print(f\"Variance: {variance:.2f}\")\n",
        "print(f\"Minimum Value: {min_value:.2f}\")\n",
        "print(f\"Maximum Value: {max_value:.2f}\")\n",
        "print(f\"Index of Minimum Value: {argmin_index}\")\n",
        "print(f\"Index of Maximum Value: {argmax_index}\")\n",
        "print(dataset)\n",
        "print(f\"Cumulative Sum: {cumulative_sum}\")\n"
      ],
      "metadata": {
        "colab": {
          "base_uri": "https://localhost:8080/"
        },
        "id": "n-nsFAwN2TUE",
        "outputId": "89b1a3e8-e06f-433e-bd01-780da677d269"
      },
      "execution_count": null,
      "outputs": [
        {
          "output_type": "stream",
          "name": "stdout",
          "text": [
            "Sum: 5059.81\n",
            "Mean: 50.60\n",
            "Median: 50.94\n",
            "Standard Deviation: 10.08\n",
            "Variance: 101.58\n",
            "Minimum Value: 24.47\n",
            "Maximum Value: 72.70\n",
            "Index of Minimum Value: 20\n",
            "Index of Maximum Value: 24\n",
            "[67.64052346 54.00157208 59.78737984 72.40893199 68.6755799  40.2272212\n",
            " 59.50088418 48.48642792 48.96781148 54.10598502 51.44043571 64.54273507\n",
            " 57.61037725 51.21675016 54.43863233 53.33674327 64.94079073 47.94841736\n",
            " 53.13067702 41.45904261 24.47010184 56.53618595 58.64436199 42.5783498\n",
            " 72.69754624 35.45634325 50.45758517 48.1281615  65.32779214 64.6935877\n",
            " 51.54947426 53.7816252  41.12214252 30.19203532 46.52087851 51.56348969\n",
            " 62.30290681 62.02379849 46.12673183 46.97697249 39.51447035 35.79982063\n",
            " 32.93729809 69.50775395 44.90347818 45.61925698 37.4720464  57.77490356\n",
            " 33.86102152 47.8725972  41.04533439 53.86902498 44.89194862 38.19367816\n",
            " 49.71817772 54.28331871 50.66517222 53.02471898 43.65677906 46.37258834\n",
            " 43.27539552 46.40446838 41.86853718 32.73717398 51.77426142 45.98219064\n",
            " 33.69801653 54.62782256 40.92701636 50.51945396 57.29090562 51.28982911\n",
            " 61.39400685 37.6517418  54.02341641 43.15189909 41.29202851 44.21150335\n",
            " 46.88447468 50.56165342 38.34850159 59.00826487 54.6566244  34.63756314\n",
            " 64.88252194 68.95889176 61.78779571 48.20075164 39.29247378 60.54451727\n",
            " 45.96823053 62.2244507  52.08274978 59.76639036 53.56366397 57.06573168\n",
            " 50.10500021 67.85870494 51.26912093 54.01989363]\n",
            "Cumulative Sum: [  67.64052346  121.64209554  181.42947538  253.83840738  322.51398728\n",
            "  362.74120848  422.24209265  470.72852057  519.69633205  573.80231707\n",
            "  625.24275278  689.78548785  747.39586511  798.61261527  853.0512476\n",
            "  906.38799087  971.3287816  1019.27719897 1072.40787598 1113.86691859\n",
            " 1138.33702043 1194.87320639 1253.51756837 1296.09591817 1368.79346441\n",
            " 1404.24980766 1454.70739284 1502.83555434 1568.16334648 1632.85693418\n",
            " 1684.40640844 1738.18803363 1779.31017616 1809.50221147 1856.02308998\n",
            " 1907.58657967 1969.88948648 2031.91328497 2078.04001679 2125.01698929\n",
            " 2164.53145964 2200.33128026 2233.26857836 2302.77633231 2347.67981049\n",
            " 2393.29906748 2430.77111388 2488.54601743 2522.40703896 2570.27963616\n",
            " 2611.32497054 2665.19399552 2710.08594415 2748.27962231 2797.99780002\n",
            " 2852.28111873 2902.94629095 2955.97100993 2999.62778899 3046.00037733\n",
            " 3089.27577285 3135.68024124 3177.54877842 3210.2859524  3262.06021382\n",
            " 3308.04240446 3341.74042099 3396.36824354 3437.2952599  3487.81471386\n",
            " 3545.10561948 3596.39544859 3657.78945543 3695.44119723 3749.46461364\n",
            " 3792.61651273 3833.90854124 3878.12004459 3925.00451927 3975.56617269\n",
            " 4013.91467428 4072.92293915 4127.57956355 4162.21712669 4227.09964863\n",
            " 4296.05854039 4357.8463361  4406.04708774 4445.33956152 4505.88407879\n",
            " 4551.85230932 4614.07676003 4666.15950981 4725.92590017 4779.48956414\n",
            " 4836.55529583 4886.66029603 4954.51900097 5005.7881219  5059.80801553]\n"
          ]
        }
      ]
    },
    {
      "cell_type": "markdown",
      "source": [
        "NumPy empowers users to create random datasets that adhere to the probability density functions of well-known statistical distributions like the Binomial, Normal, Poisson, Exponential, and various others."
      ],
      "metadata": {
        "id": "pAHemL0R4vvj"
      }
    },
    {
      "cell_type": "code",
      "source": [
        "import numpy as np\n",
        "import seaborn as sns\n",
        "import matplotlib.pyplot as plt\n",
        "\n",
        "np.random.seed(0)\n",
        "sample_size = 1000\n",
        "\n",
        "# Normal Distribution\n",
        "normal_data = np.random.normal(0, 1, sample_size)\n",
        "\n",
        "# Binomial Distribution\n",
        "binomial_data = np.random.binomial(10, 0.5, sample_size)\n",
        "\n",
        "# Exponential Distribution\n",
        "exponential_data = np.random.exponential(1, sample_size)\n",
        "\n",
        "# Poisson Distribution\n",
        "poisson_data = np.random.poisson(3, sample_size)\n",
        "\n",
        "# Create subplots using Seaborn displot\n",
        "plt.figure(figsize=(15, 5))\n",
        "\n",
        "# Plot Normal Distribution\n",
        "plt.subplot(2, 2, 1)\n",
        "sns.histplot(normal_data, kde=True, color='blue')\n",
        "plt.title('Normal Distribution')\n",
        "\n",
        "# Plot Binomial Distribution\n",
        "plt.subplot(2, 2, 2)\n",
        "sns.histplot(binomial_data, kde=True, color='green')\n",
        "plt.title('Binomial Distribution')\n",
        "\n",
        "# Plot Exponential Distribution\n",
        "plt.subplot(2, 2, 3)\n",
        "sns.histplot(exponential_data, kde=True, color='orange')\n",
        "plt.title('Exponential Distribution')\n",
        "\n",
        "# Plot Poisson Distribution\n",
        "plt.subplot(2, 2, 4)\n",
        "sns.histplot(poisson_data, kde=True, color='red')\n",
        "plt.title('Poisson Distribution')\n",
        "\n",
        "# Show the plots\n",
        "plt.tight_layout()\n",
        "plt.show()"
      ],
      "metadata": {
        "colab": {
          "base_uri": "https://localhost:8080/",
          "height": 507
        },
        "id": "HbF0ii6r2-Wa",
        "outputId": "9e14e580-3e9c-4407-9d3d-e20655d0f943"
      },
      "execution_count": null,
      "outputs": [
        {
          "output_type": "display_data",
          "data": {
            "text/plain": [
              "<Figure size 1500x500 with 4 Axes>"
            ],
            "image/png": "[encoded data removed]"
          },
          "metadata": {}
        }
      ]
    },
    {
      "cell_type": "markdown",
      "source": [],
      "metadata": {
        "id": "-qLUy2CQ6bjD"
      }
    },
    {
      "cell_type": "markdown",
      "source": [
        "## **Mathematical Functions**\n",
        "Numpy offers some mathematical functions similar to the standard ```Math``` library. Plesae check the [docs](https://numpy.org/doc/stable/reference/routines.math.html) and try to familiarise yourself.\n",
        "\n",
        "**Sine and Cosine:** Compute sine and cosine values for an array of angles.\n",
        "\n",
        "```python\n",
        "np.sin(array)\n",
        "np.cos(array)\n",
        "```\n",
        "\n",
        "**Exponential:** Calculate the exponential values of elements in an array.\n",
        "\n",
        "```python\n",
        "np.exp(array)\n",
        "```\n",
        "\n",
        "**Logarithm:** Compute the natural logarithm of elements in an array.\n",
        "\n",
        "```python\n",
        "np.log(array)\n",
        "```\n",
        "\n",
        "**Matrix Multiplication:** Perform matrix multiplication.\n",
        "\n",
        "```python\n",
        "np.dot(matrix1, matrix2)\n",
        "matrix1 @ matrix2\n",
        "```\n",
        "\n",
        "**Eigenvalues and Eigenvectors:** Compute eigenvalues and eigenvectors of a matrix.\n",
        "```python\n",
        "np.linalg.eig(matrix)\n",
        "```"
      ],
      "metadata": {
        "id": "m20FuoBJ6lWu"
      }
    },
    {
      "cell_type": "markdown",
      "source": [
        "**Exercise 1:** Find the derivative of ``` y = 1/x**2 * np.sin(x)```. Plot it's derivative/gradient against itself. See if you can also find it's integral."
      ],
      "metadata": {
        "id": "ggqI7X8c_vef"
      }
    },
    {
      "cell_type": "code",
      "source": [
        "### COMPLETE ###\n",
        "x = np.linspace(1,10,100)\n",
        "y = 1/x**2 * np.sin(x)\n",
        "\n",
        "dydx = np.gradient(y,x) ## Might Need to search the documentation or google\n",
        "y_int = np.cumsum(y) * (x[1] - x[0])\n"
      ],
      "metadata": {
        "id": "iCZ507nB_u4y"
      },
      "execution_count": null,
      "outputs": []
    },
    {
      "cell_type": "code",
      "source": [
        "### TESTS CODE HERE ###\n",
        "plt.plot(x,y)\n",
        "plt.plot(x,dydx)\n",
        "plt.plot(x,y_int)"
      ],
      "metadata": {
        "colab": {
          "base_uri": "https://localhost:8080/",
          "height": 448
        },
        "id": "9X_AEajKCZVJ",
        "outputId": "f6248891-62a1-4b9d-ac5c-9af44fc4f180"
      },
      "execution_count": null,
      "outputs": [
        {
          "output_type": "execute_result",
          "data": {
            "text/plain": [
              "[<matplotlib.lines.Line2D at 0x7f9066354850>]"
            ]
          },
          "metadata": {},
          "execution_count": 41
        },
        {
          "output_type": "display_data",
          "data": {
            "text/plain": [
              "<Figure size 640x480 with 1 Axes>"
            ],
            "image/png": "[encoded data removed]"
          },
          "metadata": {}
        }
      ]
    },
    {
      "cell_type": "markdown",
      "source": [
        "## **Multi-Dimensional Arrays**\n",
        "\n",
        "As a prerequisite for Multi-Dimensional arrays it might be useful to introduce the concept of **lists of lists**.\n"
      ],
      "metadata": {
        "id": "DS0X6M40DiaO"
      }
    },
    {
      "cell_type": "code",
      "source": [
        "mtrx = [[1,2,3],\n",
        "        [4,5,6],\n",
        "        [7,8,9]]\n",
        "\n",
        "print(mtrx[1])\n",
        "print(mtrx[1][1])"
      ],
      "metadata": {
        "colab": {
          "base_uri": "https://localhost:8080/"
        },
        "id": "TC_MO4jPD9QP",
        "outputId": "c9d30493-cfeb-4310-cede-68acdd2aebd2"
      },
      "execution_count": null,
      "outputs": [
        {
          "output_type": "stream",
          "name": "stdout",
          "text": [
            "[4, 5, 6]\n",
            "5\n"
          ]
        }
      ]
    },
    {
      "cell_type": "markdown",
      "source": [
        "**Exercise 2:** Flatten ```mtrx``` turning it intro a 1-d list."
      ],
      "metadata": {
        "id": "O8mOEWMQGfl7"
      }
    },
    {
      "cell_type": "code",
      "source": [
        "print([item for arr in mtrx for item in arr])\n",
        "print(sum(mtrx,[]))\n",
        "\n",
        "lst = []\n",
        "\n",
        "for i in range(len(mtrx)):\n",
        "  for j in range(len(mtrx[:])):\n",
        "    lst.append(mtrx[i][j])\n"
      ],
      "metadata": {
        "colab": {
          "base_uri": "https://localhost:8080/"
        },
        "id": "779av8p2GDJ9",
        "outputId": "93c6a8bd-b35a-4cd1-81de-0e4461094291"
      },
      "execution_count": null,
      "outputs": [
        {
          "output_type": "stream",
          "name": "stdout",
          "text": [
            "[1, 2, 3, 4, 5, 6, 7, 8, 9]\n",
            "[1, 2, 3, 4, 5, 6, 7, 8, 9]\n"
          ]
        }
      ]
    },
    {
      "cell_type": "markdown",
      "source": [
        "## *Creating 2-d Array*\n",
        "\n",
        "Here are few ways to create Muti-Dimensional Arrays."
      ],
      "metadata": {
        "id": "mDwwFO7QIbR8"
      }
    },
    {
      "cell_type": "code",
      "source": [
        "import numpy as np\n",
        "\n",
        "# Creating an array from a given list of integers.\n",
        "print(np.array([[1,2,3],[4,5,6], [7,8,9]]))\n",
        "\n",
        "# Creating an array of a specified size filled with zeros.\n",
        "print(np.zeros((3,3)))\n",
        "\n",
        "# Creating an array of a specified size filled with ones.\n",
        "print(np.ones((3,3)))\n",
        "\n"
      ],
      "metadata": {
        "colab": {
          "base_uri": "https://localhost:8080/"
        },
        "id": "sKIeibO-HYwY",
        "outputId": "76787fa8-5412-4ad9-f108-ea733c337861"
      },
      "execution_count": null,
      "outputs": [
        {
          "output_type": "stream",
          "name": "stdout",
          "text": [
            "[[1 2 3]\n",
            " [4 5 6]\n",
            " [7 8 9]]\n",
            "[[0. 0. 0.]\n",
            " [0. 0. 0.]\n",
            " [0. 0. 0.]]\n",
            "[[1. 1. 1.]\n",
            " [1. 1. 1.]\n",
            " [1. 1. 1.]]\n"
          ]
        }
      ]
    },
    {
      "cell_type": "markdown",
      "source": [
        "## **Multi_Dimensional Array Operations**\n",
        "\n",
        "**Element Indexing:** works the same way it did on 1-d arrays.\n",
        "\n",
        "```python\n",
        "a1 = np.array([[4,6,4],[2,1,2],[5,6,7]])\n",
        "print(a1[0])\n",
        "print(a1[:,1]) #the middle column\n",
        "print(a1[1:][:,1]) #the middle values of the last two rows\n",
        "```\n",
        "```\n",
        "array([4, 6, 4])\n",
        "array([6, 1, 6])\n",
        "array([1, 6])\n",
        "```\n",
        "\n",
        "\n",
        "**Arithmetic Operations:** works the same way it did on 1-d arrays.\n",
        "\n",
        "```python\n",
        "a1 = np.array([[4,6,4],[2,1,2],[5,6,7]])\n",
        "a1*2\n",
        "```\n",
        "```\n",
        "array([[ 8, 12,  8],\n",
        "       [ 4,  2,  4],\n",
        "       [10, 12, 14]])\n",
        "```\n",
        "\n",
        "**Boolean Indexing:** You can create multi-dimensional boolean masks\n",
        "\n",
        "```python\n",
        "print(a1>5)\n",
        "print(a2[a1>5])\n",
        "\n",
        "```\n",
        "```\n",
        "array([[False,  True, False],\n",
        "       [False, False, False],\n",
        "       [False,  True,  True]])\n",
        "\n",
        "array([ 0.32168433,  0.41624801, -2.45950882])\n",
        "\n",
        "```\n",
        "\n",
        "**Flattening:** Flattening NumPy arrays is much more trivial\n",
        "\n",
        "```python\n",
        "a1.ravel()\n",
        "```\n",
        "\n",
        "```\n",
        "array([4, 6, 4, 2, 1, 2, 5, 6, 7])\n",
        "```\n"
      ],
      "metadata": {
        "id": "Jb_8dtWBMrSc"
      }
    },
    {
      "cell_type": "markdown",
      "source": [
        "## **Basic Linear Algebra**\n",
        "\n",
        "### *Vector Operations*\n",
        "**Vector Addition and Subtraction:**"
      ],
      "metadata": {
        "id": "efBVlOm8PKJc"
      }
    },
    {
      "cell_type": "code",
      "source": [
        "import numpy as np\n",
        "\n",
        "# Define two vectors\n",
        "vector1 = np.array([1, 2, 3])\n",
        "vector2 = np.array([4, 5, 6])\n",
        "\n",
        "# Vector addition\n",
        "result_addition = vector1 + vector2\n",
        "print(\"Vector Addition:\", result_addition)\n",
        "\n",
        "# Vector subtraction\n",
        "result_subtraction = vector1 - vector2\n",
        "print(\"Vector Subtraction:\", result_subtraction)\n",
        "\n",
        "\n"
      ],
      "metadata": {
        "colab": {
          "base_uri": "https://localhost:8080/"
        },
        "id": "LYf0Y68UdVRb",
        "outputId": "f0152751-2eb2-4973-835c-e04fbbc10d65"
      },
      "execution_count": null,
      "outputs": [
        {
          "output_type": "stream",
          "name": "stdout",
          "text": [
            "Vector Addition: [5 7 9]\n",
            "Vector Subtraction: [-3 -3 -3]\n"
          ]
        }
      ]
    },
    {
      "cell_type": "markdown",
      "source": [
        "- **Scalar-Vector Multiplication:**\n",
        "\n",
        "\n",
        "\n"
      ],
      "metadata": {
        "id": "rmZLUno6dcgk"
      }
    },
    {
      "cell_type": "code",
      "source": [
        "import numpy as np\n",
        "\n",
        "# Define a vector\n",
        "vector = np.array([1, 2, 3])\n",
        "\n",
        "# Scalar-vector multiplication\n",
        "scalar = 2\n",
        "result_multiplication = scalar * vector\n",
        "print(\"Scalar-Vector Multiplication:\", result_multiplication)\n"
      ],
      "metadata": {
        "colab": {
          "base_uri": "https://localhost:8080/"
        },
        "id": "UEQuLILYdcmW",
        "outputId": "91cf1787-b5fb-404a-d077-697733c29827"
      },
      "execution_count": null,
      "outputs": [
        {
          "output_type": "stream",
          "name": "stdout",
          "text": [
            "Scalar-Vector Multiplication: [2 4 6]\n"
          ]
        }
      ]
    },
    {
      "cell_type": "markdown",
      "source": [
        "- **Dot Product:**\n",
        "\n",
        "\n"
      ],
      "metadata": {
        "id": "mDrsFONDdoOI"
      }
    },
    {
      "cell_type": "code",
      "source": [
        "import numpy as np\n",
        "\n",
        "# Define two vectors\n",
        "vector1 = np.array([1, 2, 3])\n",
        "vector2 = np.array([4, 5, 6])\n",
        "\n",
        "# Calculate the dot product\n",
        "dot_product = np.dot(vector1, vector2)\n",
        "print(\"Dot Product:\", dot_product)"
      ],
      "metadata": {
        "colab": {
          "base_uri": "https://localhost:8080/"
        },
        "id": "Vw1m3vBXdoSO",
        "outputId": "074b0a55-6772-4657-d8df-10108959c588"
      },
      "execution_count": null,
      "outputs": [
        {
          "output_type": "stream",
          "name": "stdout",
          "text": [
            "Dot Product: 32\n"
          ]
        }
      ]
    },
    {
      "cell_type": "markdown",
      "source": [
        "- **Norm (Magnitude) of a Vector:**"
      ],
      "metadata": {
        "id": "8SxIpCFudoaR"
      }
    },
    {
      "cell_type": "code",
      "source": [
        "import numpy as np\n",
        "\n",
        "# Define a vector\n",
        "vector = np.array([3, 4])\n",
        "\n",
        "# Calculate the norm (magnitude) of the vector\n",
        "norm = np.linalg.norm(vector)\n",
        "print(\"Norm (Magnitude) of Vector:\", norm)"
      ],
      "metadata": {
        "colab": {
          "base_uri": "https://localhost:8080/"
        },
        "id": "zX7spPrrdoeY",
        "outputId": "36e70cf8-8cbc-4b77-96a3-4b5df378861b"
      },
      "execution_count": null,
      "outputs": [
        {
          "output_type": "stream",
          "name": "stdout",
          "text": [
            "Norm (Magnitude) of Vector: 5.0\n"
          ]
        }
      ]
    },
    {
      "cell_type": "markdown",
      "source": [
        "\n",
        "### *Matrix Operations*\n",
        "\n",
        "- **Matrix Multiplication:**"
      ],
      "metadata": {
        "id": "6r12teF_dO9K"
      }
    },
    {
      "cell_type": "code",
      "source": [
        "import numpy as np\n",
        "\n",
        "# Define two matrices\n",
        "matrix1 = np.array([[1, 2], [3, 4]])\n",
        "matrix2 = np.array([[5, 6], [7, 8]])\n",
        "\n",
        "# Matrix multiplication\n",
        "result_multiplication = np.dot(matrix1, matrix2)\n",
        "result_multiplication = matrix1 @ matrix2\n",
        "print(\"Matrix Multiplication:\")\n",
        "print(result_multiplication)"
      ],
      "metadata": {
        "colab": {
          "base_uri": "https://localhost:8080/"
        },
        "id": "OM72FSBXdMMW",
        "outputId": "99c91a0d-c5ef-4b88-e176-55d87bcf2737"
      },
      "execution_count": null,
      "outputs": [
        {
          "output_type": "stream",
          "name": "stdout",
          "text": [
            "Matrix Multiplication:\n",
            "[[19 22]\n",
            " [43 50]]\n"
          ]
        }
      ]
    },
    {
      "cell_type": "markdown",
      "source": [
        "- **Matrix Transposition:**"
      ],
      "metadata": {
        "id": "XsEHd07SfGtT"
      }
    },
    {
      "cell_type": "code",
      "source": [
        "import numpy as np\n",
        "\n",
        "# Define a matrix\n",
        "matrix = np.array([[1, 2], [3, 4]])\n",
        "\n",
        "# Transpose the matrix\n",
        "transposed_matrix = np.transpose(matrix)\n",
        "print(\"Transposed Matrix:\")\n",
        "print(transposed_matrix)"
      ],
      "metadata": {
        "colab": {
          "base_uri": "https://localhost:8080/"
        },
        "id": "ibTI-SRDfHD9",
        "outputId": "1b09f6e4-4e7f-470f-b8db-a9643481c4a3"
      },
      "execution_count": null,
      "outputs": [
        {
          "output_type": "stream",
          "name": "stdout",
          "text": [
            "Transposed Matrix:\n",
            "[[1 3]\n",
            " [2 4]]\n"
          ]
        }
      ]
    },
    {
      "cell_type": "markdown",
      "source": [
        "- **Determinant and Inverse:**"
      ],
      "metadata": {
        "id": "g6puFYI7fHM-"
      }
    },
    {
      "cell_type": "code",
      "source": [
        "import numpy as np\n",
        "\n",
        "# Define a square matrix\n",
        "matrix = np.array([[1, 2], [3, 4]])\n",
        "\n",
        "# Calculate the determinant\n",
        "determinant = np.linalg.det(matrix)\n",
        "print(\"Determinant of Matrix:\", determinant)\n",
        "\n",
        "# Calculate the inverse (if it exists)\n",
        "inverse_matrix = np.linalg.inv(matrix)\n",
        "print(\"Inverse of Matrix (if exists):\")\n",
        "print(inverse_matrix)\n"
      ],
      "metadata": {
        "colab": {
          "base_uri": "https://localhost:8080/"
        },
        "id": "X-4KiugKImoS",
        "outputId": "2feb3196-4b5c-4ecb-8a5d-21b83d66b4e0"
      },
      "execution_count": null,
      "outputs": [
        {
          "output_type": "stream",
          "name": "stdout",
          "text": [
            "Determinant of Matrix: -2.0000000000000004\n",
            "Inverse of Matrix (if exists):\n",
            "[[-2.   1. ]\n",
            " [ 1.5 -0.5]]\n"
          ]
        }
      ]
    },
    {
      "cell_type": "markdown",
      "source": [
        "- **Eigenvalues and Eigenvectors:**"
      ],
      "metadata": {
        "id": "I6Za91AEfc0-"
      }
    },
    {
      "cell_type": "code",
      "source": [
        "import numpy as np\n",
        "\n",
        "# Define a square matrix\n",
        "matrix = np.array([[1, 2], [2, 1]])\n",
        "\n",
        "# Calculate eigenvalues and eigenvectors\n",
        "eigenvalues, eigenvectors = np.linalg.eig(matrix)\n",
        "print(\"Eigenvalues:\", eigenvalues)\n",
        "print(\"Eigenvectors:\")\n",
        "print(eigenvectors)\n"
      ],
      "metadata": {
        "colab": {
          "base_uri": "https://localhost:8080/"
        },
        "id": "qhTN5OBZfdDR",
        "outputId": "53291925-4e47-4b8b-dbb4-6786b9a9680a"
      },
      "execution_count": null,
      "outputs": [
        {
          "output_type": "stream",
          "name": "stdout",
          "text": [
            "Eigenvalues: [ 3. -1.]\n",
            "Eigenvectors:\n",
            "[[ 0.70710678 -0.70710678]\n",
            " [ 0.70710678  0.70710678]]\n"
          ]
        }
      ]
    },
    {
      "cell_type": "markdown",
      "source": [
        "##Exercise 3: Matrix Operations\n",
        "\n",
        "Create two NumPy arrays to represent matrices M and N:\n",
        "\n",
        "- M as a 3x3 matrix with elements:\n",
        "```\n",
        "[[1, 2, 3],\n",
        " [4, 5, 6],\n",
        " [7, 8, 9]]\n",
        "```\n",
        "- N as a 3x2 matrix with elements:\n",
        "```\n",
        "[[9, 8],\n",
        " [7, 6],\n",
        " [5, 4]]\n",
        "```\n",
        "\n",
        "\n",
        "**Perform the following matrix operations:**\n",
        "\n",
        "- Multiply matrix M by matrix N to obtain the result P.\n",
        "Calculate the determinant of matrix M.\n",
        "Calculate the inverse (if it exists) of matrix N.\n",
        "Print the results of each operation along with appropriate explanations.\n",
        "\n",
        "**Sample Output:**\n",
        "\n",
        "```\n",
        "Matrix M:\n",
        "[[1 2 3]\n",
        " [4 5 6]\n",
        " [7 8 9]]\n",
        "\n",
        "Matrix N:\n",
        "[[9 8]\n",
        " [7 6]\n",
        " [5 4]]\n",
        "\n",
        "1. Matrix Multiplication:\n",
        "   M × N =\n",
        "   [[ 38  32]\n",
        "    [101  86]\n",
        "    [164 140]]\n",
        "\n",
        "2. Determinant of Matrix M:\n",
        "   Det(M) = 0.0\n",
        "\n",
        "3. Inverse of Matrix N:\n",
        "   N has no inverse.\n",
        "\n",
        "```\n",
        "\n",
        "This exercise challenges you to perform matrix multiplication, calculate determinants, and check for the existence of matrix inverses. It reinforces your understanding of linear algebra concepts using NumPy operations."
      ],
      "metadata": {
        "id": "M2gD03F-gTBg"
      }
    },
    {
      "cell_type": "code",
      "source": [
        "import numpy as np\n",
        "\n",
        "# Create matrices M and N\n",
        "M = np.array([[1, 2, 3], [4, 5, 6], [7, 8, 9]])\n",
        "N = np.array([[9, 8], [7, 6], [5, 4]])\n",
        "\n",
        "# 1. Matrix Multiplication\n",
        "P = np.dot(M, N)\n",
        "\n",
        "# 2. Determinant of Matrix M\n",
        "det_M = np.linalg.det(M)\n",
        "\n",
        "# 3. Inverse of Matrix N (if it exists)\n",
        "try:\n",
        "    inverse_N = np.linalg.inv(N)\n",
        "except np.linalg.LinAlgError:\n",
        "    inverse_N = None\n",
        "\n",
        "# Print the results\n",
        "print(\"Matrix M:\")\n",
        "print(M)\n",
        "print(\"\\nMatrix N:\")\n",
        "print(N)\n",
        "\n",
        "print(\"\\n1. Matrix Multiplication (M × N):\")\n",
        "print(P)\n",
        "\n",
        "print(\"\\n2. Determinant of Matrix M:\")\n",
        "print(f\"Det(M) = {det_M:.1f}\")\n",
        "\n",
        "print(\"\\n3. Inverse of Matrix N:\")\n",
        "if inverse_N is not None:\n",
        "    print(inverse_N)\n",
        "else:\n",
        "    print(\"N has no inverse.\")\n"
      ],
      "metadata": {
        "colab": {
          "base_uri": "https://localhost:8080/"
        },
        "id": "jUbChB-0gTJS",
        "outputId": "0cb2028c-76cd-4b73-d332-a49084b10d70"
      },
      "execution_count": null,
      "outputs": [
        {
          "output_type": "stream",
          "name": "stdout",
          "text": [
            "Matrix M:\n",
            "[[1 2 3]\n",
            " [4 5 6]\n",
            " [7 8 9]]\n",
            "\n",
            "Matrix N:\n",
            "[[9 8]\n",
            " [7 6]\n",
            " [5 4]]\n",
            "\n",
            "1. Matrix Multiplication (M × N):\n",
            "[[ 38  32]\n",
            " [101  86]\n",
            " [164 140]]\n",
            "\n",
            "2. Determinant of Matrix M:\n",
            "Det(M) = 0.0\n",
            "\n",
            "3. Inverse of Matrix N:\n",
            "N has no inverse.\n"
          ]
        }
      ]
    },
    {
      "cell_type": "code",
      "source": [],
      "metadata": {
        "id": "Q-6atHezmari"
      },
      "execution_count": null,
      "outputs": []
    }
  ]
}