{
 "cells": [
  {
   "cell_type": "markdown",
   "id": "4b8dfc67",
   "metadata": {},
   "source": [
    "# Python Workshop 2"
   ]
  },
  {
   "cell_type": "markdown",
   "id": "59f5af4a",
   "metadata": {},
   "source": [
    "In this workshop we are going to teach you some basic **Data Structure** and introduce **Numpy** to you."
   ]
  },
  {
   "cell_type": "markdown",
   "id": "879564fc",
   "metadata": {},
   "source": [
    "## 1. Data Structure"
   ]
  },
  {
   "cell_type": "markdown",
   "id": "5a04fcc2",
   "metadata": {},
   "source": [
    "A data structure is a specialized format for **organizing, processing, retrieving and storing data**. There are several basic and advanced types of data structures, for example `list`, `tuple`, `set`, and `dictionary`, all designed to arrange data to suit a specific purpose. Data structures make it easy for users to access and work with the data they need in appropriate ways. *(TechTarget)*"
   ]
  },
  {
   "cell_type": "markdown",
   "id": "1219852b",
   "metadata": {},
   "source": [
    "### a. List\n",
    "In Python, `list` is structured, non-scalar built-in type that represents ordered sequence of values. Each value in a `list` can be identified by an index. To define a `list`, you place its elements inside square brackets `[]`, separating multiple elements with commas. You can use a `for` loop to iterate through the elements of a `list`, and you can also use square brackets `[]` or slicing `[:]` to retrieve one or more elements from the list."
   ]
  },
  {
   "cell_type": "markdown",
   "id": "9c396053",
   "metadata": {},
   "source": [
    "1. Define lists: Here we create my_list1, which contains a sequence of integers from 1 to 5, and my_list2, which contains the string \"hello\" repeated three times."
   ]
  },
  {
   "cell_type": "code",
   "execution_count": 1,
   "id": "c1467234",
   "metadata": {},
   "outputs": [
    {
     "name": "stdout",
     "output_type": "stream",
     "text": [
      "My First List: [1, 2, 3, 4, 5]\n",
      "My Second List: ['hello', 'hello', 'hello']\n"
     ]
    }
   ],
   "source": [
    "# Define lists\n",
    "my_list1 = [1, 2, 3, 4, 5]\n",
    "\n",
    "my_list2 = ['hello'] * 3\n",
    "\n",
    "# Print the lists\n",
    "print(\"My First List:\", my_list1)\n",
    "print(\"My Second List:\", my_list2)"
   ]
  },
  {
   "cell_type": "markdown",
   "id": "27898ffd",
   "metadata": {},
   "source": [
    "2. Determine the length of a list: Here we use the `len()` function to determine the number of elements in each list and prints the results."
   ]
  },
  {
   "cell_type": "code",
   "execution_count": 2,
   "id": "5fd55b81",
   "metadata": {},
   "outputs": [
    {
     "name": "stdout",
     "output_type": "stream",
     "text": [
      "The length of my first list: 5\n",
      "The length of my first list: 3\n"
     ]
    }
   ],
   "source": [
    "# Calculate the length (number of elements) of a list\n",
    "print(\"The length of my first list:\",len(my_list1)) # 5\n",
    "print(\"The length of my first list:\",len(my_list2)) # 3"
   ]
  },
  {
   "cell_type": "markdown",
   "id": "35c2c9e8",
   "metadata": {},
   "source": [
    "3. Indexing: Here we demonstrate how to use index to access and print the first, third, and last elements of the first list."
   ]
  },
  {
   "cell_type": "code",
   "execution_count": 3,
   "id": "2cc88b59",
   "metadata": {},
   "outputs": [
    {
     "name": "stdout",
     "output_type": "stream",
     "text": [
      "First Element of My First List: 1\n",
      "Third Element of My First List: 3\n",
      "Last Element of My First List: 5\n"
     ]
    }
   ],
   "source": [
    "# Access elements\n",
    "first_element = my_list1[0]\n",
    "third_element = my_list1[2]\n",
    "last_element = my_list1[-1]\n",
    "\n",
    "# Print the accessed elements\n",
    "print(\"First Element of My First List:\", first_element)\n",
    "print(\"Third Element of My First List:\", third_element)\n",
    "print(\"Last Element of My First List:\", last_element)"
   ]
  },
  {
   "cell_type": "markdown",
   "id": "288527a3",
   "metadata": {},
   "source": [
    "4. Print out all elements: Here we print each element in the first list using a for loop."
   ]
  },
  {
   "cell_type": "code",
   "execution_count": 4,
   "id": "6b6ebf1d",
   "metadata": {},
   "outputs": [
    {
     "name": "stdout",
     "output_type": "stream",
     "text": [
      "Iterating through the list:\n",
      "1\n",
      "2\n",
      "3\n",
      "4\n",
      "5\n"
     ]
    }
   ],
   "source": [
    "# Iterate through the list using a for loop\n",
    "print(\"Iterating through the list:\")\n",
    "for item in my_list1:\n",
    "    print(item)"
   ]
  },
  {
   "cell_type": "markdown",
   "id": "975eeaf4",
   "metadata": {},
   "source": [
    "5. Append and insert values: Here we append the value 200 to the end of my_list1 and insert the value 400 at the second position in the list."
   ]
  },
  {
   "cell_type": "code",
   "execution_count": 5,
   "id": "82833fcb",
   "metadata": {},
   "outputs": [
    {
     "name": "stdout",
     "output_type": "stream",
     "text": [
      "[1, 400, 2, 3, 4, 5, 200]\n"
     ]
    }
   ],
   "source": [
    "# Add elements\n",
    "my_list1.append(200)  # Appends 200 to the end of the list\n",
    "my_list1.insert(1, 400)  # Inserts 400 at the second position in the list\n",
    "print(my_list1)"
   ]
  },
  {
   "cell_type": "markdown",
   "id": "f4e6ee1b",
   "metadata": {},
   "source": [
    "6. Alter the value of a list: Here we change the value at the third position in my_list1 to 300 and print the updated list."
   ]
  },
  {
   "cell_type": "code",
   "execution_count": 6,
   "id": "c8fbb753",
   "metadata": {},
   "outputs": [
    {
     "name": "stdout",
     "output_type": "stream",
     "text": [
      "My Altered First List: [1, 400, 300, 3, 4, 5, 200]\n"
     ]
    }
   ],
   "source": [
    "# Alter the third value of the first list\n",
    "my_list1[2] = 300\n",
    "\n",
    "# Print the altered first list\n",
    "print(\"My Altered First List:\", my_list1)"
   ]
  },
  {
   "cell_type": "markdown",
   "id": "0139466b",
   "metadata": {},
   "source": [
    "7. Merge two lists: Here we combine two lists into one and print the merged list along with its length."
   ]
  },
  {
   "cell_type": "code",
   "execution_count": 7,
   "id": "651ea794",
   "metadata": {},
   "outputs": [
    {
     "name": "stdout",
     "output_type": "stream",
     "text": [
      "[1, 400, 300, 3, 4, 5, 200, 1000, 2000]\n",
      "9\n"
     ]
    }
   ],
   "source": [
    "# Merge two lists\n",
    "my_list1 += [1000, 2000]\n",
    "print(my_list1)\n",
    "print(len(my_list1))"
   ]
  },
  {
   "cell_type": "markdown",
   "id": "fa000453",
   "metadata": {},
   "source": [
    "8. Remove specific values: This code first checks if the elements 3 and 1234 are in the list and, if they are, removes them from the list. It then prints the updated list."
   ]
  },
  {
   "cell_type": "code",
   "execution_count": 8,
   "id": "1c6170b2",
   "metadata": {},
   "outputs": [
    {
     "name": "stdout",
     "output_type": "stream",
     "text": [
      "[1, 400, 300, 4, 5, 200, 1000, 2000]\n"
     ]
    }
   ],
   "source": [
    "# Check if elements are in the list and remove them if found\n",
    "if 3 in my_list1:\n",
    "    my_list1.remove(3)\n",
    "if 1234 in my_list1:\n",
    "    my_list1.remove(1234)\n",
    "\n",
    "print(my_list1)"
   ]
  },
  {
   "cell_type": "markdown",
   "id": "d79f291f",
   "metadata": {},
   "source": [
    "9. Remove elements by location: This code removes the elements at the first and last positions in the list and prints the updated list."
   ]
  },
  {
   "cell_type": "code",
   "execution_count": 9,
   "id": "f7fd46a0",
   "metadata": {},
   "outputs": [
    {
     "name": "stdout",
     "output_type": "stream",
     "text": [
      "[400, 300, 4, 5, 200, 1000]\n"
     ]
    }
   ],
   "source": [
    "# Remove elements from specified positions\n",
    "my_list1.pop(0)  # Remove the element at the first position\n",
    "my_list1.pop(len(my_list1) - 1)  # Remove the element at the last position\n",
    "\n",
    "print(my_list1)"
   ]
  },
  {
   "cell_type": "markdown",
   "id": "ccb96abd",
   "metadata": {},
   "source": [
    "10. Remove all elemnts: This code removes all elements from the list, resulting in an empty list."
   ]
  },
  {
   "cell_type": "code",
   "execution_count": 10,
   "id": "c141ce84",
   "metadata": {},
   "outputs": [
    {
     "name": "stdout",
     "output_type": "stream",
     "text": [
      "[]\n"
     ]
    }
   ],
   "source": [
    "# Remove all elements from the list\n",
    "my_list1.clear()\n",
    "print(my_list1) # []"
   ]
  },
  {
   "cell_type": "markdown",
   "id": "8760199d",
   "metadata": {},
   "source": [
    "11. Slicing: slicing is a powerful technique for selecting a subset of elements from a sequence (like a list or string) in Python. It involves specifying a range or interval of indices to extract a portion of the sequence. In Python, slicing is done using the square brackets `[start:stop:step]` notation. Here's an explanation of the key slicing elements:\n",
    "\n",
    "- `start`: The index where the slice starts. It is inclusive in the slice (i.e., the element at this index is included).\n",
    "\n",
    "- `stop`: The index where the slice ends. It is exclusive in the slice (i.e., the element at this index is not included).\n",
    "\n",
    "- `step`: The interval between selected elements. If omitted, it defaults to 1.\n",
    "\n",
    "Here's an example demonstrating slicing:"
   ]
  },
  {
   "cell_type": "code",
   "execution_count": 11,
   "id": "d9c99c60",
   "metadata": {},
   "outputs": [
    {
     "name": "stdout",
     "output_type": "stream",
     "text": [
      "['apple', 'strawberry', 'waxberry']\n",
      "['grape', 'apple', 'strawberry', 'waxberry', 'pitaya', 'pear', 'mango']\n",
      "['pitaya', 'pear']\n",
      "['mango', 'pear', 'pitaya', 'waxberry', 'strawberry', 'apple', 'grape']\n"
     ]
    }
   ],
   "source": [
    "# Create a fruits list\n",
    "fruits = ['grape', 'apple', 'strawberry', 'waxberry']\n",
    "fruits += ['pitaya', 'pear', 'mango']\n",
    "\n",
    "# List slicing\n",
    "fruits2 = fruits[1:4]\n",
    "print(fruits2)  # Selected fruits: apple, strawberry, waxberry\n",
    "\n",
    "# Copy the entire list using a full slice\n",
    "fruits3 = fruits[:]\n",
    "print(fruits3)  # Copied list: ['grape', 'apple', 'strawberry', 'waxberry', 'pitaya', 'pear', 'mango']\n",
    "\n",
    "# Get a slice of the list in reverse order\n",
    "fruits4 = fruits[-3:-1]\n",
    "print(fruits4)  # Selected fruits in reverse order: ['pitaya', 'pear']\n",
    "\n",
    "# Create a reversed copy of the list using a reverse slice\n",
    "fruits5 = fruits[::-1]\n",
    "print(fruits5)  # Reversed list: ['mango', 'pear', 'pitaya', 'waxberry', 'strawberry', 'apple', 'grape']"
   ]
  },
  {
   "cell_type": "markdown",
   "id": "050acbc5",
   "metadata": {},
   "source": [
    "12. Sorting: sorting lists is a common operation in Python, and it can be done using the built-in `sorted()` function or the `list.sort()` method. Here's how it works:"
   ]
  },
  {
   "cell_type": "code",
   "execution_count": 12,
   "id": "4cf0126a",
   "metadata": {},
   "outputs": [
    {
     "name": "stdout",
     "output_type": "stream",
     "text": [
      "The original list is:\n",
      " ['orange', 'apple', 'zoo', 'internationalization', 'blueberry']\n",
      "The new list sorted by the first letter of its items is:\n",
      " ['apple', 'blueberry', 'internationalization', 'orange', 'zoo']\n",
      "The new reversed list sorted by the first letter of its items is:\n",
      " ['zoo', 'orange', 'internationalization', 'blueberry', 'apple']\n",
      "The new reversed list sorted by the length of items' names is:\n",
      " ['zoo', 'apple', 'orange', 'blueberry', 'internationalization']\n",
      "The original list sorted by the first letter of its items is:\n",
      " ['zoo', 'orange', 'internationalization', 'blueberry', 'apple']\n"
     ]
    }
   ],
   "source": [
    "items = ['orange', 'apple', 'zoo', 'internationalization', 'blueberry']\n",
    "\n",
    "# Sort the items alphabetically and create a new sorted list\n",
    "sorted_items = sorted(items)\n",
    "\n",
    "# Sort the items in reverse order and create a new reversed sorted list\n",
    "reversed_sorted_items = sorted(items, reverse=True)\n",
    "\n",
    "# Sort the items based on their length and create a new list\n",
    "len_sorted_items = sorted(items, key=len)\n",
    "\n",
    "# Print the original list\n",
    "print('The original list is:\\n', items)\n",
    "\n",
    "# Print the list sorted by the first letter of its items\n",
    "print('The new list sorted by the first letter of its items is:\\n', sorted_items)\n",
    "\n",
    "# Print the reversed list sorted by the first letter of its items\n",
    "print('The new reversed list sorted by the first letter of its items is:\\n', reversed_sorted_items)\n",
    "\n",
    "# Print the reversed list sorted by the length of items' names\n",
    "print('The new reversed list sorted by the length of items\\' names is:\\n', len_sorted_items)\n",
    "\n",
    "# Sort the original list in reverse order\n",
    "items.sort(reverse=True)\n",
    "print('The original list sorted by the first letter of its items is:\\n', items)"
   ]
  },
  {
   "cell_type": "markdown",
   "id": "e5c382b8",
   "metadata": {},
   "source": [
    "### b. Tuple: \n",
    "\n",
    "In Python, a `tuple` is a container built-in data type similar to a `list` that is typically defined by enclosing a comma-separated sequence of elements within parentheses `()`. It allows you to store multiple pieces of data in a single variable. The main difference is that the elements of a `tuple` cannot be modified once they are defined. Simply put, you can think of a tuple as a collection of elements grouped together, similar to a list, for storing multiple pieces of data."
   ]
  },
  {
   "cell_type": "markdown",
   "id": "cb257a6f",
   "metadata": {},
   "source": [
    "1. Define the tuple: the following code defines a tuple"
   ]
  },
  {
   "cell_type": "code",
   "execution_count": 13,
   "id": "dfe34cf5",
   "metadata": {},
   "outputs": [
    {
     "name": "stdout",
     "output_type": "stream",
     "text": [
      "('BDSS', 2019, True, 'UoB')\n"
     ]
    }
   ],
   "source": [
    "# Define the tuple\n",
    "t = ('BDSS', 2019, True, 'UoB')\n",
    "print(t)"
   ]
  },
  {
   "cell_type": "markdown",
   "id": "903ad95f",
   "metadata": {},
   "source": [
    "2. Access elements in the tuple: the following code access the first and the last element."
   ]
  },
  {
   "cell_type": "code",
   "execution_count": 14,
   "id": "993eca9d",
   "metadata": {},
   "outputs": [
    {
     "name": "stdout",
     "output_type": "stream",
     "text": [
      "BDSS\n",
      "UoB\n"
     ]
    }
   ],
   "source": [
    "# Access elements in the tuple\n",
    "print(t[0])\n",
    "print(t[3])"
   ]
  },
  {
   "cell_type": "markdown",
   "id": "017b41ba",
   "metadata": {},
   "source": [
    "3. Iterate through each value of tuple: the following code shows how to use for-loop to iterate through each element."
   ]
  },
  {
   "cell_type": "code",
   "execution_count": 15,
   "id": "030daddc",
   "metadata": {},
   "outputs": [
    {
     "name": "stdout",
     "output_type": "stream",
     "text": [
      "BDSS\n",
      "2019\n",
      "True\n",
      "UoB\n"
     ]
    }
   ],
   "source": [
    "# Iterate through the values of a tuple\n",
    "for member in t:\n",
    "    print(member)"
   ]
  },
  {
   "cell_type": "markdown",
   "id": "9213bf6e",
   "metadata": {},
   "source": [
    "**The Immutable Property of Tuple**: Unlike `list`, you cannot modify the elements of a `tuple` after it's created. Once a `tuple` is defined, it remains unchanged. The following code will return a TypeError."
   ]
  },
  {
   "cell_type": "code",
   "execution_count": 16,
   "id": "81da7d7d",
   "metadata": {},
   "outputs": [
    {
     "ename": "TypeError",
     "evalue": "'tuple' object does not support item assignment",
     "output_type": "error",
     "traceback": [
      "\u001b[1;31m---------------------------------------------------------------------------\u001b[0m",
      "\u001b[1;31mTypeError\u001b[0m                                 Traceback (most recent call last)",
      "Input \u001b[1;32mIn [16]\u001b[0m, in \u001b[0;36m<cell line: 2>\u001b[1;34m()\u001b[0m\n\u001b[0;32m      1\u001b[0m \u001b[38;5;66;03m# To reassign values to a tuple.\u001b[39;00m\n\u001b[1;32m----> 2\u001b[0m t[\u001b[38;5;241m0\u001b[39m] \u001b[38;5;241m=\u001b[39m \u001b[38;5;124m'\u001b[39m\u001b[38;5;124mCSS\u001b[39m\u001b[38;5;124m'\u001b[39m\n",
      "\u001b[1;31mTypeError\u001b[0m: 'tuple' object does not support item assignment"
     ]
    }
   ],
   "source": [
    "# To reassign values to a tuple.\n",
    "t[0] = 'CSS'  # TypeError"
   ]
  },
  {
   "cell_type": "markdown",
   "id": "b2391bf5",
   "metadata": {},
   "source": [
    "4. Convertion between `tuple` and `list`: The following code shows convertion between `tuple` and `list` using `list()` and `tuple()`"
   ]
  },
  {
   "cell_type": "code",
   "execution_count": 17,
   "id": "d52cb01d",
   "metadata": {},
   "outputs": [
    {
     "name": "stdout",
     "output_type": "stream",
     "text": [
      "['BDSS', 2019, True, 'UoB']\n"
     ]
    }
   ],
   "source": [
    "# Convert a tuple into a list.\n",
    "society = list(t)\n",
    "print(society)"
   ]
  },
  {
   "cell_type": "code",
   "execution_count": 18,
   "id": "b719e547",
   "metadata": {},
   "outputs": [
    {
     "name": "stdout",
     "output_type": "stream",
     "text": [
      "['CSS', '2023', True, 'UoB']\n"
     ]
    }
   ],
   "source": [
    "# Lists can have their elements modified.\n",
    "society[0] = 'CSS'\n",
    "society[1] = '2023'\n",
    "print(society)"
   ]
  },
  {
   "cell_type": "code",
   "execution_count": 19,
   "id": "23cd4c99",
   "metadata": {},
   "outputs": [
    {
     "name": "stdout",
     "output_type": "stream",
     "text": [
      "('apple', 'banana', 'orange')\n"
     ]
    }
   ],
   "source": [
    "# Convert a list into a tuple.\n",
    "fruits_list = ['apple', 'banana', 'orange']\n",
    "fruits_tuple = tuple(fruits_list)\n",
    "print(fruits_tuple)"
   ]
  },
  {
   "cell_type": "markdown",
   "id": "4f6e7a8f",
   "metadata": {},
   "source": [
    "*Note: Tuples are preferred when elements shouldn't be modified. They are more efficient in terms of creation and space usage than lists. Tuples are a good choice for returning multiple values.*"
   ]
  },
  {
   "cell_type": "markdown",
   "id": "90db48bc",
   "metadata": {},
   "source": [
    "### c.Set: \n",
    "In Python, a `set` is an unordered collection of unique elements. Sets are defined by enclosing a comma-separated sequence of elements within curly braces `{}` or by using the `set()` constructor. Sets do not allow duplicate values, and they are typically used for various operations involving mathematical set theory, such as union, intersection, and difference."
   ]
  },
  {
   "cell_type": "markdown",
   "id": "363df31a",
   "metadata": {},
   "source": [
    "1. Create a set: In the following code, we will show you how to generate a set by using literal syntax, constructor syntax and set comprehension syntax.\n",
    "- The literal syntax for creating a set in Python uses curly braces `{}` with a comma-separated list of elements inside the braces. "
   ]
  },
  {
   "cell_type": "code",
   "execution_count": 20,
   "id": "adc8faec",
   "metadata": {},
   "outputs": [
    {
     "name": "stdout",
     "output_type": "stream",
     "text": [
      "{1, 2, 3}\n",
      "Length = 3\n"
     ]
    }
   ],
   "source": [
    "# Create a set using literal syntax\n",
    "set1 = {1, 2, 3, 3, 3, 2}\n",
    "print(set1)\n",
    "print('Length =', len(set1))"
   ]
  },
  {
   "cell_type": "markdown",
   "id": "2a9981e7",
   "metadata": {},
   "source": [
    "- The constructor syntax for creating a set in Python involves using the `set()` constructor, and you can pass an iterable (like a list or tuple) as an argument to create a set from its elements."
   ]
  },
  {
   "cell_type": "code",
   "execution_count": 21,
   "id": "7ddf08de",
   "metadata": {},
   "outputs": [
    {
     "name": "stdout",
     "output_type": "stream",
     "text": [
      "{1, 2, 3, 4, 5, 6, 7, 8, 9} {1, 2, 3}\n"
     ]
    }
   ],
   "source": [
    "# Create sets using constructor syntax\n",
    "set2 = set(range(1, 10))\n",
    "set3 = set((1, 2, 3, 3, 2, 1))\n",
    "print(set2, set3)"
   ]
  },
  {
   "cell_type": "markdown",
   "id": "eb1fcf1d",
   "metadata": {},
   "source": [
    "- Set comprehension syntax is a concise way to create sets in Python using a syntax similar to list comprehensions. You can use a set comprehension to generate a set based on an iterable or condition."
   ]
  },
  {
   "cell_type": "code",
   "execution_count": 22,
   "id": "83f94b68",
   "metadata": {},
   "outputs": [
    {
     "name": "stdout",
     "output_type": "stream",
     "text": [
      "{3, 5, 6, 9, 10, 12, 15, 18, 20, 21, 24, 25, 27, 30, 33, 35, 36, 39, 40, 42, 45, 48}\n"
     ]
    }
   ],
   "source": [
    "# Create a set using set comprehension syntax\n",
    "set4 = {num for num in range(1, 50) if num % 3 == 0 or num % 5 == 0}\n",
    "print(set4)"
   ]
  },
  {
   "cell_type": "markdown",
   "id": "d515e150",
   "metadata": {},
   "source": [
    "2. Adding and Removing Elements from a Set: in Python, you can add elements to a set using the add() method or remove elements from a set using the remove() or pop() methods. Here's how it works:"
   ]
  },
  {
   "cell_type": "code",
   "execution_count": 23,
   "id": "c20c1c39",
   "metadata": {},
   "outputs": [
    {
     "name": "stdout",
     "output_type": "stream",
     "text": [
      "Set1: {1, 2, 3, 4, 5} ; Set2: {1, 2, 3, 6, 7, 8, 9, 11, 12}\n",
      "Popped Element: 1\n",
      "Set3: {2, 3}\n"
     ]
    }
   ],
   "source": [
    "# Adding and Removing Elements from a Set\n",
    "set1.add(4)\n",
    "set1.add(5)\n",
    "set2.update([11, 12])\n",
    "set2.discard(5)\n",
    "if 4 in set2:\n",
    "    set2.remove(4)\n",
    "print(\"Set1:\",set1, \"; Set2:\",set2)\n",
    "print(\"Popped Element:\",set3.pop())\n",
    "print(\"Set3:\",set3)"
   ]
  },
  {
   "cell_type": "markdown",
   "id": "b11c946c",
   "metadata": {},
   "source": [
    "3. Intersection, union, difference, and symmetric difference operations on sets: in Python, sets support various fundamental operations for manipulating collections of unique elements:\n",
    "\n",
    "- **Intersection**: The intersection of two sets contains all elements that are common to both sets. You can use the `intersection()` method or the `&` operator to find the intersection."
   ]
  },
  {
   "cell_type": "code",
   "execution_count": 24,
   "id": "d6cfa086",
   "metadata": {},
   "outputs": [
    {
     "name": "stdout",
     "output_type": "stream",
     "text": [
      "{1, 2, 3}\n",
      "{1, 2, 3}\n"
     ]
    }
   ],
   "source": [
    "# Intersection operations on sets\n",
    "print(set1 & set2)\n",
    "print(set1.intersection(set2))"
   ]
  },
  {
   "cell_type": "markdown",
   "id": "855ce59b",
   "metadata": {},
   "source": [
    "- **Union**: The union of two sets contains all elements from both sets, removing any duplicates. You can use the `union()` method or the `|` operator to find the union."
   ]
  },
  {
   "cell_type": "code",
   "execution_count": 25,
   "id": "dc940b91",
   "metadata": {},
   "outputs": [
    {
     "name": "stdout",
     "output_type": "stream",
     "text": [
      "{1, 2, 3, 4, 5, 6, 7, 8, 9, 11, 12}\n",
      "{1, 2, 3, 4, 5, 6, 7, 8, 9, 11, 12}\n"
     ]
    }
   ],
   "source": [
    "# Union operations on sets\n",
    "print(set1 | set2)\n",
    "print(set1.union(set2))"
   ]
  },
  {
   "cell_type": "markdown",
   "id": "a2d58779",
   "metadata": {},
   "source": [
    "- **Difference**: The difference of two sets contains elements that are in the first set but not in the second set. You can use the `difference()` method or the `-` operator to find the difference."
   ]
  },
  {
   "cell_type": "code",
   "execution_count": 26,
   "id": "266551e5",
   "metadata": {},
   "outputs": [
    {
     "name": "stdout",
     "output_type": "stream",
     "text": [
      "{4, 5}\n",
      "{4, 5}\n"
     ]
    }
   ],
   "source": [
    "# Difference operations on sets\n",
    "print(set1 - set2)\n",
    "print(set1.difference(set2))"
   ]
  },
  {
   "cell_type": "markdown",
   "id": "6dc32f09",
   "metadata": {},
   "source": [
    "- **Symmetric Difference**: The symmetric difference of two sets contains elements that are in either of the sets, but not in their intersection. You can use the `symmetric_difference()` method or the `^` operator to find the symmetric difference."
   ]
  },
  {
   "cell_type": "code",
   "execution_count": 27,
   "id": "4776e6cf",
   "metadata": {},
   "outputs": [
    {
     "name": "stdout",
     "output_type": "stream",
     "text": [
      "{4, 5, 6, 7, 8, 9, 11, 12}\n",
      "{4, 5, 6, 7, 8, 9, 11, 12}\n"
     ]
    }
   ],
   "source": [
    "# Symmetric difference operations on sets\n",
    "print(set1 ^ set2)\n",
    "print(set1.symmetric_difference(set2))"
   ]
  },
  {
   "cell_type": "markdown",
   "id": "ef87ed53",
   "metadata": {},
   "source": [
    "4. Subset and superset: In Python, you can use the following methods to determine if one set is a subset or a superset of another:\n",
    "\n",
    "- **Subset**: You can check if one set is a subset of another using the `issubset()` method or the `<=` operator. For example, `setA.issubset(setB)` or `setA <= setB` will return `True` if `setA` is a subset of `setB`."
   ]
  },
  {
   "cell_type": "code",
   "execution_count": 28,
   "id": "3d8ee4f2",
   "metadata": {},
   "outputs": [
    {
     "name": "stdout",
     "output_type": "stream",
     "text": [
      "False\n",
      "False\n"
     ]
    }
   ],
   "source": [
    "# Determine if one set is a subset\n",
    "print(set2 <= set1)\n",
    "print(set2.issubset(set1))"
   ]
  },
  {
   "cell_type": "code",
   "execution_count": 29,
   "id": "013ebabd",
   "metadata": {},
   "outputs": [
    {
     "name": "stdout",
     "output_type": "stream",
     "text": [
      "True\n",
      "True\n"
     ]
    }
   ],
   "source": [
    "print(set3 <= set1)\n",
    "print(set3.issubset(set1))"
   ]
  },
  {
   "cell_type": "markdown",
   "id": "e9ca2681",
   "metadata": {},
   "source": [
    "- **Superset**: To check if one set is a superset of another, you can use the `issuperset()` method or the `>=` operator. For example, `setA.issuperset(setB)` or `setA >= setB` will return `True` if `setA` is a superset of `setB`."
   ]
  },
  {
   "cell_type": "code",
   "execution_count": 30,
   "id": "0611fc24",
   "metadata": {},
   "outputs": [
    {
     "name": "stdout",
     "output_type": "stream",
     "text": [
      "False\n",
      "False\n"
     ]
    }
   ],
   "source": [
    "#determine if one set is a superset\n",
    "print(set1 >= set2)\n",
    "print(set1.issuperset(set2))"
   ]
  },
  {
   "cell_type": "code",
   "execution_count": 31,
   "id": "047ef254",
   "metadata": {},
   "outputs": [
    {
     "name": "stdout",
     "output_type": "stream",
     "text": [
      "True\n",
      "True\n"
     ]
    }
   ],
   "source": [
    "print(set1 >= set3)\n",
    "print(set1.issuperset(set3))"
   ]
  },
  {
   "cell_type": "markdown",
   "id": "367e442d",
   "metadata": {},
   "source": [
    "### d.Dictionary:\n",
    "\n",
    "In Python, a `dictionary` is an unordered collection of key-value pairs. Each key in a `dictionary` is unique, and it is used to access its corresponding value. Dictionaries are defined by enclosing a comma-separated sequence of key-value pairs within curly braces `{}` or by using the `dict()` constructor."
   ]
  },
  {
   "cell_type": "markdown",
   "id": "bb6eaac7",
   "metadata": {},
   "source": [
    "1. Create a dictionary: In the following code, we will show you how to generate a dictionary by using literal syntax, constructor syntax and set comprehension syntax.\n",
    "- The literal syntax for creating a dictionary in Python involves using curly braces `{}` to enclose a set of key-value pairs, where each key is separated from its corresponding value by a colon `:`, and different key-value pairs are separated by commas. Here's an example:"
   ]
  },
  {
   "cell_type": "code",
   "execution_count": 32,
   "id": "52389e1d",
   "metadata": {},
   "outputs": [
    {
     "name": "stdout",
     "output_type": "stream",
     "text": [
      "{'Jerry': 95, 'Tom': 78, 'Spike': 82}\n"
     ]
    }
   ],
   "source": [
    "# The literal syntax for creating a dictionary\n",
    "scores = {'Jerry': 95, 'Tom': 78, 'Spike': 82}\n",
    "print(scores)"
   ]
  },
  {
   "cell_type": "markdown",
   "id": "f7ab7698",
   "metadata": {},
   "source": [
    "- The constructor syntax for creating a dictionary in Python involves using the `dict()` constructor. You can pass key-value pairs as arguments to `dict()` using the following format: `dict(key1=value1, key2=value2, ...)`. Here's an example:"
   ]
  },
  {
   "cell_type": "code",
   "execution_count": 33,
   "id": "4944b409",
   "metadata": {},
   "outputs": [
    {
     "name": "stdout",
     "output_type": "stream",
     "text": [
      "{'one': 1, 'two': 2, 'three': 3, 'four': 4}\n",
      "{'a': '1', 'b': '2', 'c': '3'}\n"
     ]
    }
   ],
   "source": [
    "# The constructor syntax for creating a dictionary\n",
    "items1 = dict(one=1, two=2, three=3, four=4)\n",
    "# Using the zip() to combine two sequences into a dictionary.\n",
    "items2 = dict(zip(['a', 'b', 'c'], '123'))\n",
    "print(items1)\n",
    "print(items2)"
   ]
  },
  {
   "cell_type": "markdown",
   "id": "f89a4f25",
   "metadata": {},
   "source": [
    "- The dictionary comprehension syntax in Python for creating dictionaries uses a concise and convenient way to generate dictionaries based on iterables (such as lists or other dictionaries) and a set of expressions. It follows the format `{key_expression: value_expression for item in iterable}`. This expression evaluates for each item in the iterable, and the key-value pairs are created based on the specified expressions. Here is an example:"
   ]
  },
  {
   "cell_type": "code",
   "execution_count": 34,
   "id": "a423e504",
   "metadata": {},
   "outputs": [
    {
     "name": "stdout",
     "output_type": "stream",
     "text": [
      "{1: 1, 2: 4, 3: 9, 4: 16, 5: 25, 6: 36, 7: 49, 8: 64, 9: 81}\n"
     ]
    }
   ],
   "source": [
    "# Dictionary comprehension syntax for creating dictionaries\n",
    "items3 = {num: num ** 2 for num in range(1, 10)}\n",
    "print(items3)"
   ]
  },
  {
   "cell_type": "markdown",
   "id": "01a4454e",
   "metadata": {},
   "source": [
    "2. Access values in a dictionary: you can use the key as the index within `[]`. Here's how you do it:"
   ]
  },
  {
   "cell_type": "code",
   "execution_count": 35,
   "id": "7653f6d9",
   "metadata": {},
   "outputs": [
    {
     "name": "stdout",
     "output_type": "stream",
     "text": [
      "95\n",
      "78\n"
     ]
    }
   ],
   "source": [
    "# Access values in a dictionary\n",
    "print(scores['Jerry'])\n",
    "print(scores['Tom'])"
   ]
  },
  {
   "cell_type": "code",
   "execution_count": 36,
   "id": "a8280c8f",
   "metadata": {},
   "outputs": [
    {
     "name": "stdout",
     "output_type": "stream",
     "text": [
      "Jerry: 95\n",
      "Tom: 78\n",
      "Spike: 82\n"
     ]
    }
   ],
   "source": [
    "# Iterate through all key-value pairs in a dictionary\n",
    "for key in scores:\n",
    "    print(f'{key}: {scores[key]}')"
   ]
  },
  {
   "cell_type": "markdown",
   "id": "9469efd3",
   "metadata": {},
   "source": [
    "3. Update elements in a dictionary: Updating elements in a dictionary involves changing the value associated with a specific key or adding a new key-value pair to the dictionary. Here's how you can do it in Python:"
   ]
  },
  {
   "cell_type": "code",
   "execution_count": 37,
   "id": "d9a52eb7",
   "metadata": {},
   "outputs": [
    {
     "name": "stdout",
     "output_type": "stream",
     "text": [
      "{'Jerry': 95, 'Tom': 78, 'Spike': 82, 'Tyke': 65, 'Tuffy': 71, 'Quaker': 67, 'Butch': 85}\n"
     ]
    }
   ],
   "source": [
    "# Update elements in a dictionary\n",
    "scores['Tyke'] = 65\n",
    "scores['Tuffy'] = 71\n",
    "scores.update(Quaker=67, Butch=85)\n",
    "print(scores)"
   ]
  },
  {
   "cell_type": "markdown",
   "id": "b333e84a",
   "metadata": {},
   "source": [
    "4. Check if elements are in dictionary: you can check if elements are in a dictionary using Python by testing for the presence of keys or values. Here is how to do this:"
   ]
  },
  {
   "cell_type": "code",
   "execution_count": 38,
   "id": "0ff3223a",
   "metadata": {},
   "outputs": [
    {
     "name": "stdout",
     "output_type": "stream",
     "text": [
      "Mammy Two Shoes not found\n"
     ]
    }
   ],
   "source": [
    "if 'Mammy Two Shoes' in scores:\n",
    "    print(scores['Mammy Two Shoes'])\n",
    "else:\n",
    "    print('Mammy Two Shoes not found')"
   ]
  },
  {
   "cell_type": "code",
   "execution_count": 39,
   "id": "f5909b1c",
   "metadata": {},
   "outputs": [
    {
     "name": "stdout",
     "output_type": "stream",
     "text": [
      "None\n"
     ]
    }
   ],
   "source": [
    "# Using get() to avoid KeyError\n",
    "print(scores.get('Mammy Two Shoes'))"
   ]
  },
  {
   "cell_type": "markdown",
   "id": "70efce77",
   "metadata": {},
   "source": [
    "5. Delete elements from a dictionary: To delete elements from a dictionary in Python, you can use the popitem() or the pop() method. Here's how you can do it:"
   ]
  },
  {
   "cell_type": "code",
   "execution_count": 40,
   "id": "75923d0f",
   "metadata": {},
   "outputs": [
    {
     "name": "stdout",
     "output_type": "stream",
     "text": [
      "('Butch', 85)\n",
      "{'Jerry': 95, 'Tom': 78, 'Spike': 82, 'Tyke': 65, 'Tuffy': 71, 'Quaker': 67}\n",
      "95\n"
     ]
    }
   ],
   "source": [
    "# The popitem() method removes and returns an arbitrary (key, value) pair from the dictionary.\n",
    "print(scores.popitem())\n",
    "\n",
    "# After using popitem(), the dictionary will have one less element.\n",
    "print(scores)\n",
    "\n",
    "# The pop() method allows you to specify a default value (in this case, 95) if the key is not found in the dictionary.\n",
    "# It removes the 'Jerry' key and returns its associated value, or the default value if 'Jerry' is not in the dictionary.\n",
    "print(scores.pop('Jerry', 95))"
   ]
  },
  {
   "cell_type": "markdown",
   "id": "bc3cedbc",
   "metadata": {},
   "source": [
    "6. Delete the whole dictionary: To delete the whole dictionary you need to use `clear()` method. Here's how you can do it:"
   ]
  },
  {
   "cell_type": "code",
   "execution_count": 41,
   "id": "4cb23d23",
   "metadata": {},
   "outputs": [
    {
     "name": "stdout",
     "output_type": "stream",
     "text": [
      "{}\n"
     ]
    }
   ],
   "source": [
    "# Delete the whole dictionary\n",
    "scores.clear()\n",
    "print(scores)"
   ]
  },
  {
   "cell_type": "markdown",
   "id": "0968a40a",
   "metadata": {},
   "source": [
    "### Exercise 1: Design a function that returns the largest and second-largest elements in the given tuple.\n",
    "\n",
    "\n",
    "In this exercise, you need to create a Python function that takes a tuple `X` as input and returns two values: the largest element in the tuple and the second-largest element in the tuple. You can achieve this by iterating through the tuple and maintaining variables to keep track of the largest and second-largest values found so far."
   ]
  },
  {
   "cell_type": "code",
   "execution_count": 3,
   "id": "8e51d1b0",
   "metadata": {},
   "outputs": [
    {
     "data": {
      "text/plain": [
       "(15, 10)"
      ]
     },
     "execution_count": 3,
     "metadata": {},
     "output_type": "execute_result"
    }
   ],
   "source": [
    "def max2(x):\n",
    "    m1, m2 = (x[0], x[1]) if x[0] > x[1] else (x[1], x[0])\n",
    "    for index in range(2, len(x)):\n",
    "        if x[index] > m1:\n",
    "            m2 = m1\n",
    "            m1 = x[index]\n",
    "        elif x[index] > m2:\n",
    "            m2 = x[index]\n",
    "    return m1, m2\n",
    "\n",
    "X = (1,3,5,9,6,10,15)\n",
    "max2(X)"
   ]
  },
  {
   "cell_type": "markdown",
   "id": "d31418cd",
   "metadata": {},
   "source": [
    "### Exercise 2: Print Pascal's Triangle\n",
    "\n",
    "In this exercise, you are tasked with printing Pascal's Triangle. Pascal's Triangle is a mathematical structure that starts with a 1 at the top, and each subsequent row is generated by summing up the two values directly above it. It forms a triangular pattern of numbers like below"
   ]
  },
  {
   "attachments": {
    "%E4%B8%8B%E8%BD%BD%20%285%29.png": {
     "image/png": "[encoded data removed]"
    }
   },
   "cell_type": "markdown",
   "id": "37e387e8",
   "metadata": {},
   "source": [
    "![%E4%B8%8B%E8%BD%BD%20%285%29.png](attachment:%E4%B8%8B%E8%BD%BD%20%285%29.png)"
   ]
  },
  {
   "cell_type": "markdown",
   "id": "d9bfe4a3",
   "metadata": {},
   "source": [
    "To print Pascal's Triangle, you can use nested loops to generate the values for each row and put them into lists. The number of rows to print can be determined by the user."
   ]
  },
  {
   "cell_type": "code",
   "execution_count": 5,
   "id": "457c923b",
   "metadata": {},
   "outputs": [
    {
     "name": "stdout",
     "output_type": "stream",
     "text": [
      "1\t\n",
      "1\t1\t\n",
      "1\t2\t1\t\n",
      "1\t3\t3\t1\t\n",
      "1\t4\t6\t4\t1\t\n"
     ]
    }
   ],
   "source": [
    "def generate_pascals_triangle(num):\n",
    "    yh = [[]] * num\n",
    "\n",
    "    for row in range(len(yh)):\n",
    "        yh[row] = [None] * (row + 1)\n",
    "        for col in range(len(yh[row])):\n",
    "            if col == 0 or col == row:\n",
    "                yh[row][col] = 1\n",
    "            else:\n",
    "                yh[row][col] = yh[row - 1][col] + yh[row - 1][col - 1]\n",
    "            print(yh[row][col], end='\\t')\n",
    "        print()\n",
    "\n",
    "# Call the function to generate and print Pascal's Triangle\n",
    "generate_pascals_triangle(5)"
   ]
  },
  {
   "cell_type": "markdown",
   "id": "9b51e2bf",
   "metadata": {},
   "source": [
    "### Comprehensions and Generator (Optional)\n",
    "\n",
    "Comprehensions and generators are advanced features in Python used for creating and working with iterable objects.\n",
    "\n",
    "**Comprehensions:**\n",
    "1. **List Comprehensions:** These concise expressions allow you to create lists based on existing iterable data structures (like lists or strings) in a single line. They can also apply filtering and transformations.\n"
   ]
  },
  {
   "cell_type": "code",
   "execution_count": 42,
   "id": "4d41880f",
   "metadata": {},
   "outputs": [
    {
     "name": "stdout",
     "output_type": "stream",
     "text": [
      "[1, 4, 9, 16, 25, 36, 49, 64, 81]\n",
      "['A1', 'A2', 'A3', 'A4', 'A5', 'A6', 'A7', 'B1', 'B2', 'B3', 'B4', 'B5', 'B6', 'B7', 'C1', 'C2', 'C3', 'C4', 'C5', 'C6', 'C7', 'D1', 'D2', 'D3', 'D4', 'D5', 'D6', 'D7', 'E1', 'E2', 'E3', 'E4', 'E5', 'E6', 'E7']\n"
     ]
    }
   ],
   "source": [
    "# Create lists using list comprehensions with different variable names.\n",
    "list1 = [x**2 for x in range(1, 10)]\n",
    "print(list1)\n",
    "list2 = [x + y for x in 'ABCDE' for y in '1234567']\n",
    "print(list2)"
   ]
  },
  {
   "cell_type": "markdown",
   "id": "aadaf478",
   "metadata": {},
   "source": [
    "2. **Dictionary Comprehensions:** Similar to list comprehensions, they allow you to create dictionaries in a more compact way."
   ]
  },
  {
   "cell_type": "code",
   "execution_count": 43,
   "id": "66724c36",
   "metadata": {},
   "outputs": [
    {
     "name": "stdout",
     "output_type": "stream",
     "text": [
      "{0: 0, 1: 1, 2: 4, 3: 9, 4: 16, 5: 25, 6: 36, 7: 49, 8: 64, 9: 81}\n"
     ]
    }
   ],
   "source": [
    "squares_dict = {x: x**2 for x in range(10)}\n",
    "print(squares_dict)"
   ]
  },
  {
   "cell_type": "markdown",
   "id": "e8765208",
   "metadata": {},
   "source": [
    "3. **Set Comprehensions:** These are used to create sets in a similar manner. They automatically handle duplicate values."
   ]
  },
  {
   "cell_type": "code",
   "execution_count": 44,
   "id": "850780ed",
   "metadata": {},
   "outputs": [
    {
     "name": "stdout",
     "output_type": "stream",
     "text": [
      "{0, 1, 64, 4, 36, 9, 16, 49, 81, 25}\n"
     ]
    }
   ],
   "source": [
    "unique_squares = {x**2 for x in range(10)}\n",
    "print(unique_squares)"
   ]
  },
  {
   "cell_type": "markdown",
   "id": "998c4e05",
   "metadata": {},
   "source": [
    "**Generators:**\n",
    "1. **Generator Expressions:** These are similar to list comprehensions but create generator objects that produce values on the fly. They are memory-efficient for large datasets."
   ]
  },
  {
   "cell_type": "code",
   "execution_count": 45,
   "id": "be748b72",
   "metadata": {},
   "outputs": [
    {
     "name": "stdout",
     "output_type": "stream",
     "text": [
      "[1, 4, 9, 16, 25, 36, 49, 64, 81]\n"
     ]
    }
   ],
   "source": [
    "# Create a list container using list comprehension syntax.\n",
    "# Using this syntax prepares the elements in advance, so it may consume more memory.\n",
    "squares_generator = [x ** 2 for x in range(1, 10)]\n",
    "print(squares_generator)"
   ]
  },
  {
   "cell_type": "markdown",
   "id": "6f59719f",
   "metadata": {},
   "source": [
    "2. **Generator Functions:** You can define generator functions using the `yield` keyword. They provide a way to create custom iterators."
   ]
  },
  {
   "cell_type": "code",
   "execution_count": 46,
   "id": "c8ba3f48",
   "metadata": {},
   "outputs": [],
   "source": [
    "# Define a Fibonacci number generator using a generator function.\n",
    "def fib(n):\n",
    "    a, b = 0, 1\n",
    "    for _ in range(n):\n",
    "        a, b = b, a + b\n",
    "        yield a"
   ]
  },
  {
   "cell_type": "code",
   "execution_count": 47,
   "id": "576cc73b",
   "metadata": {},
   "outputs": [
    {
     "name": "stdout",
     "output_type": "stream",
     "text": [
      "1\n",
      "1\n",
      "2\n",
      "3\n",
      "5\n",
      "8\n",
      "13\n",
      "21\n",
      "34\n",
      "55\n"
     ]
    }
   ],
   "source": [
    "# Print out the first ten Fibonacci number\n",
    "for val in fib(10):\n",
    "        print(val)"
   ]
  },
  {
   "cell_type": "markdown",
   "id": "f5a94cc8",
   "metadata": {},
   "source": [
    "## 2.  Getting Started with NumPy"
   ]
  },
  {
   "cell_type": "markdown",
   "id": "d97c2683",
   "metadata": {},
   "source": [
    "`NumPy` is an open-source Python library for efficient scientific computing. \n",
    "\n",
    "It excels in processing arrays of **any dimension** and offers **robust support** for **common array and matrix operations**. `NumPy`'s core data type, `ndarray`, enables fast and flexible handling of one-dimensional, two-dimensional, and multidimensional arrays. \n",
    "\n",
    "`NumPy`, written in C, overcomes the limitations of the Global Interpreter Lock (GIL) and provides efficient, contiguous data storage, significantly outperforming Python's native lists, especially with larger datasets. Numpy also offers additional statistical methods not found in Python lists."
   ]
  },
  {
   "cell_type": "markdown",
   "id": "bd0f21e8",
   "metadata": {},
   "source": [
    "### Preparation"
   ]
  },
  {
   "cell_type": "code",
   "execution_count": 7,
   "id": "f28a5951",
   "metadata": {},
   "outputs": [],
   "source": [
    "import numpy as np"
   ]
  },
  {
   "cell_type": "markdown",
   "id": "dc170fdb",
   "metadata": {},
   "source": [
    "### Create array objects"
   ]
  },
  {
   "cell_type": "markdown",
   "id": "42df1041",
   "metadata": {},
   "source": [
    "A `NumPy` array is an object in Python. A `NumPy` array is an object in Python, and it can be created using built-in `NumPy` methods. These methods simplify array creation, enabling you to generate arrays with specific shapes, data types, and values. This makes NumPy arrays a versatile and powerful data structure for various data manipulation tasks.\n",
    "\n",
    "There are various ways to create `ndarray` objects in `NumPy`, and we will explain how to create one-dimensional arrays, two-dimensional arrays, and multi-dimensional arrays:"
   ]
  },
  {
   "cell_type": "markdown",
   "id": "554721f8",
   "metadata": {},
   "source": [
    "### a. One-Dimensional Arrays"
   ]
  },
  {
   "cell_type": "markdown",
   "id": "238b26c6",
   "metadata": {},
   "source": [
    "1. Using the array function to create an array object from a `list`:"
   ]
  },
  {
   "cell_type": "code",
   "execution_count": 49,
   "id": "3bb58f79",
   "metadata": {},
   "outputs": [
    {
     "data": {
      "text/plain": [
       "array([1, 2, 3, 4, 5])"
      ]
     },
     "execution_count": 49,
     "metadata": {},
     "output_type": "execute_result"
    }
   ],
   "source": [
    "# Create a Python list\n",
    "python_list = [1, 2, 3, 4, 5]\n",
    "\n",
    "# Convert the Python list to a NumPy array\n",
    "numpy_array = np.array(python_list)\n",
    "numpy_array"
   ]
  },
  {
   "cell_type": "markdown",
   "id": "e00fc974",
   "metadata": {},
   "source": [
    "2. Create an array object by using the `arange()` function and specifying a range of values."
   ]
  },
  {
   "cell_type": "code",
   "execution_count": 50,
   "id": "548937a2",
   "metadata": {},
   "outputs": [
    {
     "data": {
      "text/plain": [
       "array([ 0,  2,  4,  6,  8, 10, 12, 14, 16, 18])"
      ]
     },
     "execution_count": 50,
     "metadata": {},
     "output_type": "execute_result"
    }
   ],
   "source": [
    "# Create an array with values ranging from 0 to 18 in steps of 2\n",
    "even_numbers_array = np.arange(0, 20, 2)\n",
    "even_numbers_array"
   ]
  },
  {
   "cell_type": "markdown",
   "id": "63e9f510",
   "metadata": {},
   "source": [
    "3. Create an array object using the `linspace()` function, generating numbers with uniform spacing within a specified range."
   ]
  },
  {
   "cell_type": "code",
   "execution_count": 51,
   "id": "d8b776c5",
   "metadata": {},
   "outputs": [
    {
     "data": {
      "text/plain": [
       "array([-5.        , -4.47368421, -3.94736842, -3.42105263, -2.89473684,\n",
       "       -2.36842105, -1.84210526, -1.31578947, -0.78947368, -0.26315789,\n",
       "        0.26315789,  0.78947368,  1.31578947,  1.84210526,  2.36842105,\n",
       "        2.89473684,  3.42105263,  3.94736842,  4.47368421,  5.        ])"
      ]
     },
     "execution_count": 51,
     "metadata": {},
     "output_type": "execute_result"
    }
   ],
   "source": [
    "# Create a NumPy array with 20 evenly spaced values between -5 and 5\n",
    "linear_space_array = np.linspace(-5, 5, 20)\n",
    "linear_space_array"
   ]
  },
  {
   "cell_type": "markdown",
   "id": "adde11df",
   "metadata": {},
   "source": [
    "4. Create an array object by generating random numbers using functions from the numpy.random module."
   ]
  },
  {
   "cell_type": "code",
   "execution_count": 52,
   "id": "5762ae91",
   "metadata": {},
   "outputs": [
    {
     "data": {
      "text/plain": [
       "array([0.24889548, 0.18365787, 0.95508672, 0.05466879, 0.28861139,\n",
       "       0.48186069, 0.98297486, 0.80492292, 0.20323083, 0.76636843])"
      ]
     },
     "execution_count": 52,
     "metadata": {},
     "output_type": "execute_result"
    }
   ],
   "source": [
    "# Generate an array of 10 random floating-point numbers in the range [0, 1)\n",
    "random_array = np.random.rand(10)\n",
    "random_array"
   ]
  },
  {
   "cell_type": "code",
   "execution_count": 53,
   "id": "85f53de8",
   "metadata": {},
   "outputs": [
    {
     "data": {
      "text/plain": [
       "array([95, 41, 75, 28, 25, 77,  3, 44, 36, 34])"
      ]
     },
     "execution_count": 53,
     "metadata": {},
     "output_type": "execute_result"
    }
   ],
   "source": [
    "# Generate 10 random integers in the range [1, 100)\n",
    "random_int_array = np.random.randint(1, 100, 10)\n",
    "random_int_array"
   ]
  },
  {
   "cell_type": "code",
   "execution_count": 54,
   "id": "9cfc088a",
   "metadata": {},
   "outputs": [
    {
     "data": {
      "text/plain": [
       "array([54.08520172, 47.35729595, 57.94843943, 45.16723115, 40.86202351,\n",
       "       52.56977002, 54.58504644, 36.36952397, 46.34445429, 48.78583502,\n",
       "       36.66870706, 52.32249545, 49.37950716, 48.15739999, 54.32792936,\n",
       "       51.94936236, 40.01656059, 58.55813529, 46.64028587, 68.49397143])"
      ]
     },
     "execution_count": 54,
     "metadata": {},
     "output_type": "execute_result"
    }
   ],
   "source": [
    "# Generate 20 random numbers from a normal distribution with a mean (μ) of 50 and a standard deviation (σ) of 10\n",
    "normal_distribution_array = np.random.normal(50, 10, 20)\n",
    "normal_distribution_array"
   ]
  },
  {
   "cell_type": "markdown",
   "id": "fe2bcfb9",
   "metadata": {},
   "source": [
    "### b. Two-Dimensional Arrays"
   ]
  },
  {
   "cell_type": "markdown",
   "id": "13b072a1",
   "metadata": {},
   "source": [
    "1. Create an array object using the array function, with nested lists."
   ]
  },
  {
   "cell_type": "code",
   "execution_count": 55,
   "id": "865a9846",
   "metadata": {},
   "outputs": [
    {
     "data": {
      "text/plain": [
       "array([[1, 2, 3],\n",
       "       [4, 5, 6]])"
      ]
     },
     "execution_count": 55,
     "metadata": {},
     "output_type": "execute_result"
    }
   ],
   "source": [
    "# Create a NumPy array from a nested list\n",
    "nested_list = [[1, 2, 3], [4, 5, 6]]\n",
    "\n",
    "array2D = np.array(nested_list)\n",
    "array2D"
   ]
  },
  {
   "cell_type": "markdown",
   "id": "5b9fe8b5",
   "metadata": {},
   "source": [
    "2. Create an array object by using the `zeros`, `ones`, or `full` functions to specify the shape of the array."
   ]
  },
  {
   "cell_type": "code",
   "execution_count": 56,
   "id": "778559fd",
   "metadata": {},
   "outputs": [
    {
     "data": {
      "text/plain": [
       "array([[0., 0., 0., 0.],\n",
       "       [0., 0., 0., 0.],\n",
       "       [0., 0., 0., 0.]])"
      ]
     },
     "execution_count": 56,
     "metadata": {},
     "output_type": "execute_result"
    }
   ],
   "source": [
    "# Create a 3x4 NumPy array filled with zeros\n",
    "zeros_array2D = np.zeros((3, 4))\n",
    "zeros_array2D"
   ]
  },
  {
   "cell_type": "code",
   "execution_count": 57,
   "id": "fc7829ad",
   "metadata": {},
   "outputs": [
    {
     "data": {
      "text/plain": [
       "array([[1., 1., 1., 1.],\n",
       "       [1., 1., 1., 1.],\n",
       "       [1., 1., 1., 1.]])"
      ]
     },
     "execution_count": 57,
     "metadata": {},
     "output_type": "execute_result"
    }
   ],
   "source": [
    "# Create a 3x4 NumPy array filled with ones\n",
    "ones_array2D = np.ones((3, 4))\n",
    "ones_array2D"
   ]
  },
  {
   "cell_type": "code",
   "execution_count": 58,
   "id": "a3b04fcb",
   "metadata": {},
   "outputs": [
    {
     "data": {
      "text/plain": [
       "array([[10, 10, 10, 10],\n",
       "       [10, 10, 10, 10],\n",
       "       [10, 10, 10, 10]])"
      ]
     },
     "execution_count": 58,
     "metadata": {},
     "output_type": "execute_result"
    }
   ],
   "source": [
    "# Create a 3x4 NumPy array filled with a specified value (10 in this case)\n",
    "tens_array2D = np.full((3, 4), 10)\n",
    "tens_array2D"
   ]
  },
  {
   "cell_type": "markdown",
   "id": "6c3d184f",
   "metadata": {},
   "source": [
    "3. Create an array object by using the `eye` function to generate an identity matrix."
   ]
  },
  {
   "cell_type": "code",
   "execution_count": 59,
   "id": "664e677e",
   "metadata": {},
   "outputs": [
    {
     "data": {
      "text/plain": [
       "array([[1., 0., 0., 0.],\n",
       "       [0., 1., 0., 0.],\n",
       "       [0., 0., 1., 0.],\n",
       "       [0., 0., 0., 1.]])"
      ]
     },
     "execution_count": 59,
     "metadata": {},
     "output_type": "execute_result"
    }
   ],
   "source": [
    "# Generate a 4x4 identity matrix using np.eye()\n",
    "identity_matrix = np.eye(4)\n",
    "identity_matrix"
   ]
  },
  {
   "cell_type": "markdown",
   "id": "902ad2ca",
   "metadata": {},
   "source": [
    "4. Transform a one-dimensional array into a two-dimensional array using the `reshape` method."
   ]
  },
  {
   "cell_type": "code",
   "execution_count": 60,
   "id": "e0204f3f",
   "metadata": {},
   "outputs": [
    {
     "data": {
      "text/plain": [
       "array([[1, 2, 3],\n",
       "       [4, 5, 6]])"
      ]
     },
     "execution_count": 60,
     "metadata": {},
     "output_type": "execute_result"
    }
   ],
   "source": [
    "# Reshape a one-dimensional array into a 2x3 array\n",
    "reshaped_array2D = np.array([1, 2, 3, 4, 5, 6]).reshape(2, 3)\n",
    "reshaped_array2D"
   ]
  },
  {
   "cell_type": "markdown",
   "id": "d3781e50",
   "metadata": {},
   "source": [
    "*Tip: `reshape` is a method of the `ndarray` object, and when using it, ensure that the number of elements in the reshaped array remains consistent with the original array to avoid raising an exception.*"
   ]
  },
  {
   "cell_type": "markdown",
   "id": "fbf149e3",
   "metadata": {},
   "source": [
    "5. Create an array object by generating random numbers using functions from the `numpy.random` module."
   ]
  },
  {
   "cell_type": "code",
   "execution_count": 61,
   "id": "1aa281d5",
   "metadata": {},
   "outputs": [
    {
     "data": {
      "text/plain": [
       "array([[0.14834858, 0.38501357, 0.50135254, 0.03387567],\n",
       "       [0.79799268, 0.10694087, 0.37964909, 0.93128002],\n",
       "       [0.08803725, 0.56996095, 0.80339026, 0.62663198]])"
      ]
     },
     "execution_count": 61,
     "metadata": {},
     "output_type": "execute_result"
    }
   ],
   "source": [
    "# Generate a 3x4 two-dimensional array with random decimal numbers in the range [0, 1)\n",
    "random_decimal_array2D = np.random.rand(3, 4)\n",
    "random_decimal_array2D"
   ]
  },
  {
   "cell_type": "code",
   "execution_count": 62,
   "id": "e4648d6b",
   "metadata": {},
   "outputs": [
    {
     "data": {
      "text/plain": [
       "array([[59, 59,  1, 73],\n",
       "       [82, 45, 39, 52],\n",
       "       [45, 69, 66, 59]])"
      ]
     },
     "execution_count": 62,
     "metadata": {},
     "output_type": "execute_result"
    }
   ],
   "source": [
    "# Generate a 3x4 two-dimensional array with random integers in the range [1, 100)\n",
    "random_integer_array2D = np.random.randint(1, 100, (3, 4))\n",
    "random_integer_array2D"
   ]
  },
  {
   "cell_type": "markdown",
   "id": "73194bc2",
   "metadata": {},
   "source": [
    "### c. Multi-Dimensional Arrays"
   ]
  },
  {
   "cell_type": "markdown",
   "id": "47db4a21",
   "metadata": {},
   "source": [
    "1. Create multi-dimensional arrays using a random approach."
   ]
  },
  {
   "cell_type": "code",
   "execution_count": 63,
   "id": "9fbd7318",
   "metadata": {},
   "outputs": [
    {
     "data": {
      "text/plain": [
       "array([[[30, 81, 84, 63,  7],\n",
       "        [76,  6, 97, 36, 82],\n",
       "        [68, 19, 27, 53, 73],\n",
       "        [43,  4, 51, 54, 72]],\n",
       "\n",
       "       [[20, 36, 96,  4, 42],\n",
       "        [89, 93, 33, 38, 87],\n",
       "        [93, 80, 49, 35, 79],\n",
       "        [25, 28, 80, 93, 94]],\n",
       "\n",
       "       [[85, 17, 54, 74, 72],\n",
       "        [40, 22, 31, 72, 95],\n",
       "        [66,  3, 81, 10, 16],\n",
       "        [96, 86, 15, 93, 47]]])"
      ]
     },
     "execution_count": 63,
     "metadata": {},
     "output_type": "execute_result"
    }
   ],
   "source": [
    "# Generate a 3x4x5 three-dimensional array with random integers in the range [1, 100)\n",
    "random_integer_array3D = np.random.randint(1, 100, (3, 4, 5))\n",
    "random_integer_array3D"
   ]
  },
  {
   "cell_type": "markdown",
   "id": "c7c8c8a2",
   "metadata": {},
   "source": [
    "2. Reshape one-dimensional and two-dimensional arrays into multi-dimensional arrays."
   ]
  },
  {
   "cell_type": "code",
   "execution_count": 64,
   "id": "80bdb2d5",
   "metadata": {},
   "outputs": [
    {
     "data": {
      "text/plain": [
       "array([[[ 1,  2,  3,  4],\n",
       "        [ 5,  6,  7,  8],\n",
       "        [ 9, 10, 11, 12]],\n",
       "\n",
       "       [[13, 14, 15, 16],\n",
       "        [17, 18, 19, 20],\n",
       "        [21, 22, 23, 24]]])"
      ]
     },
     "execution_count": 64,
     "metadata": {},
     "output_type": "execute_result"
    }
   ],
   "source": [
    "# Generate an array containing integers from 1 to 24 and reshape it to (2, 3, 4)\n",
    "array1D = np.arange(1, 25)\n",
    "reshaped_array3D = array1D.reshape((2, 3, 4))\n",
    "reshaped_array3D"
   ]
  },
  {
   "cell_type": "code",
   "execution_count": 65,
   "id": "7430d16d",
   "metadata": {},
   "outputs": [
    {
     "data": {
      "text/plain": [
       "array([[[71, 22],\n",
       "        [ 6, 30],\n",
       "        [71, 39]],\n",
       "\n",
       "       [[21, 20],\n",
       "        [37, 86],\n",
       "        [29, 76]],\n",
       "\n",
       "       [[98, 27],\n",
       "        [76, 59],\n",
       "        [70, 51]],\n",
       "\n",
       "       [[67, 51],\n",
       "        [65, 22],\n",
       "        [28, 25]]])"
      ]
     },
     "execution_count": 65,
     "metadata": {},
     "output_type": "execute_result"
    }
   ],
   "source": [
    "# Reshaping a 4x6 2D array into a 4x3x2 3D array.\n",
    "array2D = np.random.randint(1, 100, (4, 6))\n",
    "reshaped_array3D = array2D.reshape((4, 3, 2))\n",
    "reshaped_array3D"
   ]
  },
  {
   "cell_type": "markdown",
   "id": "32ae416d",
   "metadata": {},
   "source": [
    "### The attribute of NumPy Array"
   ]
  },
  {
   "cell_type": "markdown",
   "id": "53cccc28",
   "metadata": {},
   "source": [
    "Again, a `NumPy` array is an **object** in Python. Objects have attributes, which are like properties or characteristics that describe the object. In the case of a NumPy array, common attributes include `shape` (describing its dimensions), `dtype` (indicating data type), `size` (total number of elements), `ndim`(describing the number of its dimensions) providing essential information about the array."
   ]
  },
  {
   "cell_type": "markdown",
   "id": "414f271c",
   "metadata": {},
   "source": [
    "To access an object's attribute in Python, use dot notation, where you specify the object, followed by a dot (.), and then the attribute's name. For example: `object.attribute`."
   ]
  },
  {
   "cell_type": "markdown",
   "id": "5a99a360",
   "metadata": {},
   "source": [
    "1. `size`: Indicates the total number of elements in the array."
   ]
  },
  {
   "cell_type": "code",
   "execution_count": 66,
   "id": "dbeca59f",
   "metadata": {},
   "outputs": [
    {
     "name": "stdout",
     "output_type": "stream",
     "text": [
      "The size of odd_numbers_array is: 50; The size of random_decimal_array is: 12\n"
     ]
    }
   ],
   "source": [
    "# Create an array of odd numbers from 1 to 99\n",
    "odd_numbers_array = np.arange(1, 100, 2)\n",
    "\n",
    "# Generate a 3x4 array of random decimal numbers\n",
    "random_decimal_array = np.random.rand(3, 4)\n",
    "\n",
    "# Print the sizes of the arrays\n",
    "print('The size of odd_numbers_array is: %d; The size of random_decimal_array is: %d' \n",
    "      % (odd_numbers_array.size, random_decimal_array.size))"
   ]
  },
  {
   "cell_type": "markdown",
   "id": "9e215961",
   "metadata": {},
   "source": [
    "2. `shape`: Returns the dimensions of the array as a tuple (e.g., `(3, 4)` for a 3x4 array)."
   ]
  },
  {
   "cell_type": "code",
   "execution_count": 67,
   "id": "1a94b5a3",
   "metadata": {},
   "outputs": [
    {
     "name": "stdout",
     "output_type": "stream",
     "text": [
      "The shape of odd_numbers_array is:  (50,) ; The shape of random_decimal_array is:  (3, 4)\n"
     ]
    }
   ],
   "source": [
    "print('The shape of odd_numbers_array is: ', odd_numbers_array.shape, \n",
    "      '; The shape of random_decimal_array is: ', random_decimal_array.shape)"
   ]
  },
  {
   "cell_type": "markdown",
   "id": "66a49a49",
   "metadata": {},
   "source": [
    "3. `dtype`: Specifies the data type of the array elements (e.g., int, float, etc.)."
   ]
  },
  {
   "cell_type": "code",
   "execution_count": 68,
   "id": "056fdb7f",
   "metadata": {},
   "outputs": [
    {
     "name": "stdout",
     "output_type": "stream",
     "text": [
      "The data type of odd_numbers_array is:  int32 ; The data type of random_decimal_array is:  float64\n"
     ]
    }
   ],
   "source": [
    "print('The data type of odd_numbers_array is: ', odd_numbers_array.dtype, \n",
    "      '; The data type of random_decimal_array is: ', random_decimal_array.dtype)"
   ]
  },
  {
   "cell_type": "markdown",
   "id": "ddc28894",
   "metadata": {},
   "source": [
    "4. `ndim`: Shows the number of dimensions in the array (e.g., 1 for a one-dimensional array, 2 for a two-dimensional array, etc.)."
   ]
  },
  {
   "cell_type": "code",
   "execution_count": 69,
   "id": "b4386dc6",
   "metadata": {},
   "outputs": [
    {
     "name": "stdout",
     "output_type": "stream",
     "text": [
      "The number of dimensions of odd_numbers_array is:  1 ; The number of dimensions of random_decimal_array is:  2\n"
     ]
    }
   ],
   "source": [
    "print('The number of dimensions of odd_numbers_array is: ', odd_numbers_array.ndim, \n",
    "      '; The number of dimensions of random_decimal_array is: ', random_decimal_array.ndim)"
   ]
  },
  {
   "cell_type": "markdown",
   "id": "b58b36e2",
   "metadata": {},
   "source": [
    "### Array indexing and slicing"
   ]
  },
  {
   "cell_type": "markdown",
   "id": "4cc4590f",
   "metadata": {},
   "source": [
    "Array indexing and slicing allow you to access and manipulate specific elements or subarrays within an array. Indexing is used to retrieve a single element, while slicing is used to extract a portion of the array. \n",
    "\n",
    "- **Indexing**: Access a specific element using its position, e.g., `array[0]` for the first element."
   ]
  },
  {
   "cell_type": "code",
   "execution_count": 70,
   "id": "c74cfd81",
   "metadata": {},
   "outputs": [
    {
     "name": "stdout",
     "output_type": "stream",
     "text": [
      "First Element (Positive Indexing): 1\n",
      "Last Element (Positive Indexing): 9\n",
      "First Element (Negative Indexing): 1\n",
      "Last Element (Negative Indexing): 9\n"
     ]
    }
   ],
   "source": [
    "# Define an array\n",
    "number_array = np.array([1, 2, 3, 4, 5, 6, 7, 8, 9])\n",
    "\n",
    "# Print the first and last elements using positive indexing\n",
    "print(\"First Element (Positive Indexing):\", number_array[0])\n",
    "print(\"Last Element (Positive Indexing):\", number_array[number_array.size - 1])\n",
    "\n",
    "# Print the first and last elements using negative indexing\n",
    "print(\"First Element (Negative Indexing):\", number_array[-number_array.size])\n",
    "print(\"Last Element (Negative Indexing):\", number_array[-1])"
   ]
  },
  {
   "cell_type": "code",
   "execution_count": 71,
   "id": "1ef27184",
   "metadata": {},
   "outputs": [
    {
     "name": "stdout",
     "output_type": "stream",
     "text": [
      "Third Row: [7 8 9]\n",
      "First Element (Double Square Brackets): 1\n",
      "Last Element (Double Square Brackets): 9\n",
      "Middle Element (Double Square Brackets): 5\n",
      "Middle Element (Comma Notation): 5\n"
     ]
    }
   ],
   "source": [
    "# Define a 2D array\n",
    "array2D = np.array([[1, 2, 3], [4, 5, 6], [7, 8, 9]])\n",
    "\n",
    "# Print the third row of the array\n",
    "print(\"Third Row:\", array2D[2])\n",
    "\n",
    "# Print the first and last elements using both double square brackets and comma notation\n",
    "print(\"First Element (Double Square Brackets):\", array2D[0][0])\n",
    "print(\"Last Element (Double Square Brackets):\", array2D[-1][-1])\n",
    "\n",
    "# Print the middle element using both double square brackets and comma notation\n",
    "print(\"Middle Element (Double Square Brackets):\", array2D[1][1])\n",
    "print(\"Middle Element (Comma Notation):\", array2D[1, 1])"
   ]
  },
  {
   "cell_type": "code",
   "execution_count": 72,
   "id": "845cc4f0",
   "metadata": {},
   "outputs": [
    {
     "name": "stdout",
     "output_type": "stream",
     "text": [
      "[[ 1  2  3]\n",
      " [ 4 10  6]\n",
      " [ 7  8  9]]\n"
     ]
    }
   ],
   "source": [
    "# Modify a specific element in the array\n",
    "array2D[1][1] = 10\n",
    "print(array2D)"
   ]
  },
  {
   "cell_type": "code",
   "execution_count": 74,
   "id": "6b39ca29",
   "metadata": {},
   "outputs": [
    {
     "name": "stdout",
     "output_type": "stream",
     "text": [
      "[[ 1  2  3]\n",
      " [10 11 12]\n",
      " [ 7  8  9]]\n"
     ]
    }
   ],
   "source": [
    "# Modify an entire row in the array\n",
    "array2D[1] = [10, 11, 12]\n",
    "print(array2D)"
   ]
  },
  {
   "cell_type": "markdown",
   "id": "72663248",
   "metadata": {},
   "source": [
    "- **Slicing**: Slicing is performed using syntax like `[start index: end index: step]`. By specifying a start index (default is negative infinity), an end index (default is positive infinity), and a step value (default is 1), you can extract a specified portion of elements from an array and create a new array. Since start index, end index, and step all have default values, they can be omitted. If you don't specify a step, the second colon can also be omitted. Slicing one-dimensional arrays is similar to Python's list slicing and is not discussed here. For two-dimensional array slicing, refer to the code below."
   ]
  },
  {
   "cell_type": "code",
   "execution_count": 75,
   "id": "0211f941",
   "metadata": {},
   "outputs": [
    {
     "name": "stdout",
     "output_type": "stream",
     "text": [
      "[[ 2  3]\n",
      " [11 12]]\n"
     ]
    }
   ],
   "source": [
    "# Print a slice of the first two rows and columns starting from the second column\n",
    "print(array2D[:2, 1:])"
   ]
  },
  {
   "cell_type": "code",
   "execution_count": 76,
   "id": "17af3e23",
   "metadata": {},
   "outputs": [
    {
     "name": "stdout",
     "output_type": "stream",
     "text": [
      "[7 8 9]\n"
     ]
    }
   ],
   "source": [
    "# Print the third row of the array\n",
    "print(array2D[2, :])"
   ]
  },
  {
   "cell_type": "code",
   "execution_count": 77,
   "id": "d0af4c37",
   "metadata": {},
   "outputs": [
    {
     "name": "stdout",
     "output_type": "stream",
     "text": [
      "[[1 3]\n",
      " [7 9]]\n"
     ]
    }
   ],
   "source": [
    "# Print a subarray with every odd-numbered rows and every odd-numbered column\n",
    "print(array2D[::2, ::2])"
   ]
  },
  {
   "cell_type": "code",
   "execution_count": 78,
   "id": "e93f5fdb",
   "metadata": {},
   "outputs": [
    {
     "name": "stdout",
     "output_type": "stream",
     "text": [
      "[[9 7]\n",
      " [3 1]]\n"
     ]
    }
   ],
   "source": [
    "# Print a subarray with every odd-numbered rows and every odd-numbered column in reverse order\n",
    "print(array2D[::-2, ::-2])"
   ]
  },
  {
   "cell_type": "markdown",
   "id": "8ec4738a",
   "metadata": {},
   "source": [
    "- **Fancy indexing**: Fancy indexing refers to indexing using integer arrays, which can be NumPy ndarrays, or iterable types like lists or tuples from Python. It allows for both positive and negative indexing. Fancy indexing for 2D arrays involves providing two arrays or lists, one specifying rows and the other specifying columns. By using these arrays, you can selectively access specific elements at the intersection of the corresponding row and column indices, allowing for versatile and precise element retrieval within the array."
   ]
  },
  {
   "cell_type": "code",
   "execution_count": 79,
   "id": "1ed276d1",
   "metadata": {},
   "outputs": [
    {
     "name": "stdout",
     "output_type": "stream",
     "text": [
      "[50 30 40]\n"
     ]
    }
   ],
   "source": [
    "# Define a one-dimensional array\n",
    "fancy_indexing_array = np.array([50, 30, 15, 20, 40])\n",
    "\n",
    "# Use fancy indexing to select the first, second, and the last elements from the array\n",
    "selected_elements = fancy_indexing_array[[0, 1, -1]]\n",
    "print(selected_elements)"
   ]
  },
  {
   "cell_type": "code",
   "execution_count": 81,
   "id": "0038278d",
   "metadata": {},
   "outputs": [
    {
     "name": "stdout",
     "output_type": "stream",
     "text": [
      "[[30 20 10]\n",
      " [10 90 80]]\n"
     ]
    }
   ],
   "source": [
    "# Define a 2D array\n",
    "fancy_indexing_array2D = np.array([[30, 20, 10], [40, 60, 50], [10, 90, 80]])\n",
    "\n",
    "# Use fancy indexing to select the first and third rows of the 2D array\n",
    "print(fancy_indexing_array2D[[0, 2]])"
   ]
  },
  {
   "cell_type": "code",
   "execution_count": 82,
   "id": "041e656f",
   "metadata": {},
   "outputs": [
    {
     "name": "stdout",
     "output_type": "stream",
     "text": [
      "[20 80]\n"
     ]
    }
   ],
   "source": [
    "# Print out two elements: (1st row, 2nd column) and (3rd row, 3rd column) from the 2D array\n",
    "print(fancy_indexing_array2D[[0, 2], [1, 2]])"
   ]
  },
  {
   "cell_type": "code",
   "execution_count": 83,
   "id": "3e7c2f27",
   "metadata": {},
   "outputs": [
    {
     "name": "stdout",
     "output_type": "stream",
     "text": [
      "[20 90]\n"
     ]
    }
   ],
   "source": [
    "# Print out two elements: (1st row, 2nd column) and (3rd row, 2nd column) from the 2D array\n",
    "print(fancy_indexing_array2D[[0, 2], 1])"
   ]
  },
  {
   "cell_type": "markdown",
   "id": "7a3f2d66",
   "metadata": {},
   "source": [
    "- **Boolean indexing**: Boolean indexing involves using boolean arrays to index array elements. Boolean arrays can be manually created or generated through relational operations. It allows for precise selection of array elements based on specific conditions or criteria defined by boolean values."
   ]
  },
  {
   "cell_type": "code",
   "execution_count": 84,
   "id": "e990c44e",
   "metadata": {},
   "outputs": [
    {
     "name": "stdout",
     "output_type": "stream",
     "text": [
      "[1 3 4 9]\n"
     ]
    }
   ],
   "source": [
    "# Use Boolean indexing to select elements where True values are present\n",
    "# Define an array\n",
    "boolean_indexing_array = np.arange(1, 10)\n",
    "\n",
    "# Create a boolean index to select elements\n",
    "boolean_index = [True, False, True, True, False, False, False, False, True]\n",
    "\n",
    "# Use boolean indexing to select elements from the array\n",
    "selected_elements = boolean_indexing_array[boolean_index]\n",
    "print(selected_elements)"
   ]
  },
  {
   "cell_type": "code",
   "execution_count": 85,
   "id": "5fecd4ed",
   "metadata": {},
   "outputs": [
    {
     "name": "stdout",
     "output_type": "stream",
     "text": [
      "[5 6 7 8 9]\n"
     ]
    }
   ],
   "source": [
    "# Print elements from the array where the condition (element >= 5) is met\n",
    "selected_elements = boolean_indexing_array[boolean_indexing_array >= 5]\n",
    "print(selected_elements)"
   ]
  },
  {
   "cell_type": "code",
   "execution_count": 86,
   "id": "811eb578",
   "metadata": {},
   "outputs": [
    {
     "name": "stdout",
     "output_type": "stream",
     "text": [
      "[1 2 3 4]\n"
     ]
    }
   ],
   "source": [
    "# Use the ~ operator to negate the condition (element >= 5)\n",
    "print(boolean_indexing_array[~(boolean_indexing_array >= 5)])"
   ]
  },
  {
   "cell_type": "markdown",
   "id": "a668d59e",
   "metadata": {},
   "source": [
    "### Functions for array objects"
   ]
  },
  {
   "cell_type": "markdown",
   "id": "730bfd6f",
   "metadata": {},
   "source": [
    "Functions that can be applied to arrays can be categorized into two types: statistical functions and other functions."
   ]
  },
  {
   "cell_type": "markdown",
   "id": "82fc86ca",
   "metadata": {},
   "source": [
    "- **Statistical Functions**: Statistical functions in NumPy are essential for data analysis. They include functions like `sum()`, `mean()`, `std()`, `var()`, `min()`, `max()`, `argmin()`, `argmax()`, `cumsum()`, and more. These functions allow you to perform operations such as summing, averaging, finding standard deviation, variance, minimum, maximum, and cumulative sums on array elements. Refer to the code below for examples."
   ]
  },
  {
   "cell_type": "markdown",
   "id": "c59b3a8d",
   "metadata": {},
   "source": [
    "1. The `sum()` function in NumPy computes the sum of all elements in an array, providing a single aggregated value. It is used to quickly calculate the total sum of the array's elements."
   ]
  },
  {
   "cell_type": "code",
   "execution_count": 87,
   "id": "eaa93832",
   "metadata": {},
   "outputs": [
    {
     "name": "stdout",
     "output_type": "stream",
     "text": [
      "30\n"
     ]
    }
   ],
   "source": [
    "#Define the array\n",
    "an_array = np.array([1, 2, 3, 4, 5, 5, 4, 3, 2, 1])\n",
    "# Calculate the sum of array elements\n",
    "print(an_array.sum())"
   ]
  },
  {
   "cell_type": "markdown",
   "id": "32392184",
   "metadata": {},
   "source": [
    "2. The `mean()` function in NumPy calculates and returns the average (arithmetic mean) of the elements in an array. It sums up all the elements and divides by the total count, providing a measure of the central tendency of the data."
   ]
  },
  {
   "cell_type": "code",
   "execution_count": 88,
   "id": "3df6512c",
   "metadata": {},
   "outputs": [
    {
     "name": "stdout",
     "output_type": "stream",
     "text": [
      "3.0\n"
     ]
    }
   ],
   "source": [
    "# Calculate the mean of array elements\n",
    "print(an_array.mean())"
   ]
  },
  {
   "cell_type": "markdown",
   "id": "e37720c6",
   "metadata": {},
   "source": [
    "3. The `max()` function in Python is used to find the maximum value within a collection of elements, such as a list or an array. It returns the largest element from the collection."
   ]
  },
  {
   "cell_type": "code",
   "execution_count": 89,
   "id": "2f2449df",
   "metadata": {},
   "outputs": [
    {
     "name": "stdout",
     "output_type": "stream",
     "text": [
      "5\n"
     ]
    }
   ],
   "source": [
    "# Find the maximum value in the array\n",
    "print(an_array.max())"
   ]
  },
  {
   "cell_type": "markdown",
   "id": "a8aebcf0",
   "metadata": {},
   "source": [
    "4. The `min()` function in Python is used to find the minimum value within a collection of elements, such as a list or an array. It returns the smallest element from the collection."
   ]
  },
  {
   "cell_type": "code",
   "execution_count": 90,
   "id": "52d0c20e",
   "metadata": {},
   "outputs": [
    {
     "name": "stdout",
     "output_type": "stream",
     "text": [
      "1\n"
     ]
    }
   ],
   "source": [
    "# Find the minimum value in the array\n",
    "print(an_array.min())"
   ]
  },
  {
   "cell_type": "markdown",
   "id": "754bee75",
   "metadata": {},
   "source": [
    "5. The `std()` function in Python, often used with libraries like NumPy, calculates the standard deviation of a dataset. It measures the amount of variation or dispersion in the data. "
   ]
  },
  {
   "cell_type": "code",
   "execution_count": 91,
   "id": "033554e2",
   "metadata": {},
   "outputs": [
    {
     "name": "stdout",
     "output_type": "stream",
     "text": [
      "1.4142135623730951\n"
     ]
    }
   ],
   "source": [
    "# Calculate the standard deviation of array elements\n",
    "print(an_array.std())"
   ]
  },
  {
   "cell_type": "markdown",
   "id": "0c9b8aee",
   "metadata": {},
   "source": [
    "6. The `var()` function in Python, typically used with libraries like NumPy, calculates the variance of a dataset. It is the square of the standard deviation."
   ]
  },
  {
   "cell_type": "code",
   "execution_count": 92,
   "id": "03bf93f9",
   "metadata": {},
   "outputs": [
    {
     "name": "stdout",
     "output_type": "stream",
     "text": [
      "2.0\n"
     ]
    }
   ],
   "source": [
    "# Calculate the variance of array elements\n",
    "print(an_array.var())"
   ]
  },
  {
   "cell_type": "markdown",
   "id": "b2d85bc5",
   "metadata": {},
   "source": [
    "7. The `cumsum()` function, short for \"cumulative sum,\" is used to calculate the cumulative sum of elements in an array. It creates a new array in which each element represents the cumulative sum of all preceding elements in the original array. "
   ]
  },
  {
   "cell_type": "code",
   "execution_count": 93,
   "id": "c01b9b20",
   "metadata": {},
   "outputs": [
    {
     "name": "stdout",
     "output_type": "stream",
     "text": [
      "[ 1  3  6 10 15 20 24 27 29 30]\n"
     ]
    }
   ],
   "source": [
    "# Compute the cumulative sum of array elements\n",
    "print(an_array.cumsum())"
   ]
  },
  {
   "cell_type": "markdown",
   "id": "b78f0389",
   "metadata": {},
   "source": [
    "- **Other methods**: Non-statistical functions that can be applied to NumPy arrays encompass an array of operations. These functions include reshaping with `np.reshape()`, transposing with `np.transpose()`, concatenating arrays with `np.concatenate()`, splitting arrays into sub-arrays with `np.split()`, searching for indices with `np.searchsorted()`, identifying unique elements with `np.unique()`, and computing the dot product between arrays using `np.dot()`. Refer to the code below to grasp a better understanding."
   ]
  },
  {
   "cell_type": "markdown",
   "id": "58b01f22",
   "metadata": {},
   "source": [
    "1. The `all()` / `any()` function: Determine if all elements in an array are `True` / Determine if there is at least one `True` element in the array."
   ]
  },
  {
   "cell_type": "code",
   "execution_count": 94,
   "id": "95f6286b",
   "metadata": {},
   "outputs": [
    {
     "name": "stdout",
     "output_type": "stream",
     "text": [
      "All elements are True: False\n",
      "At least one element is True: True\n"
     ]
    }
   ],
   "source": [
    "# Create a NumPy array\n",
    "boolean_array = np.array([True, True, False, True])\n",
    "\n",
    "# Check if all elements are True\n",
    "all_true = np.all(boolean_array)\n",
    "print(\"All elements are True:\", all_true)\n",
    "\n",
    "# Check if any element is True\n",
    "any_true = np.any(boolean_array)\n",
    "print(\"At least one element is True:\", any_true)"
   ]
  },
  {
   "cell_type": "markdown",
   "id": "103835b6",
   "metadata": {},
   "source": [
    "2. The `astype()` function: Creates a copy of the array and converts its elements to the specified data type."
   ]
  },
  {
   "cell_type": "code",
   "execution_count": 96,
   "id": "b26232ad",
   "metadata": {},
   "outputs": [
    {
     "name": "stdout",
     "output_type": "stream",
     "text": [
      "Original Array: [1.3 2.2 3.7 4.9 5.1]\n",
      "New Array with Data Type Conversion: [1 2 3 4 5]\n"
     ]
    }
   ],
   "source": [
    "# Create a NumPy array with integers\n",
    "float_array = np.array([1.3, 2.2, 3.7, 4.9, 5.1])\n",
    "\n",
    "# Convert the array to floating-point numbers\n",
    "int_array = float_array.astype(int)\n",
    "\n",
    "print(\"Original Array:\", float_array)\n",
    "print(\"New Array with Data Type Conversion:\", int_array)"
   ]
  },
  {
   "cell_type": "markdown",
   "id": "4e1f1169",
   "metadata": {},
   "source": [
    "3. The `round()` function: Performs rounding on elements in an array, rounding to the nearest integer using the standard \"round half to even\" strategy (rounds to the nearest even number in the case of a tie)."
   ]
  },
  {
   "cell_type": "code",
   "execution_count": 97,
   "id": "fed9ae2a",
   "metadata": {},
   "outputs": [
    {
     "name": "stdout",
     "output_type": "stream",
     "text": [
      "Original Array: [1.3 2.2 3.7 4.9 5.1]\n",
      "New Array with rounding: [1. 2. 4. 5. 5.]\n"
     ]
    }
   ],
   "source": [
    "# Round the elements to the nearest integer\n",
    "round_array = float_array.round()\n",
    "\n",
    "print(\"Original Array:\", float_array)\n",
    "print(\"New Array with rounding:\", round_array)"
   ]
  },
  {
   "cell_type": "markdown",
   "id": "f031aeeb",
   "metadata": {},
   "source": [
    "4. `sort()` function: Sorts the array in-place."
   ]
  },
  {
   "cell_type": "code",
   "execution_count": 98,
   "id": "350caa64",
   "metadata": {},
   "outputs": [
    {
     "name": "stdout",
     "output_type": "stream",
     "text": [
      "[12 35 40 54 66 78 82 96]\n"
     ]
    }
   ],
   "source": [
    "# Create a NumPy array\n",
    "array_to_sort = np.array([35, 96, 12, 78, 66, 54, 40, 82])\n",
    "\n",
    "# Sort the array in-place\n",
    "array_to_sort.sort()\n",
    "\n",
    "# Print the sorted array\n",
    "print(array_to_sort)"
   ]
  },
  {
   "cell_type": "markdown",
   "id": "57ebe315",
   "metadata": {},
   "source": [
    "5. The `swapaxes()` and `transpose()` functions: Reorder the specified axes of an array."
   ]
  },
  {
   "cell_type": "code",
   "execution_count": 99,
   "id": "09f74271",
   "metadata": {},
   "outputs": [
    {
     "name": "stdout",
     "output_type": "stream",
     "text": [
      "Original Array:\n",
      "[[1 2 3]\n",
      " [4 5 6]]\n",
      "\n",
      "Swapped Array:\n",
      "[[1 4]\n",
      " [2 5]\n",
      " [3 6]]\n",
      "\n",
      "Transposed Array:\n",
      "[[1 4]\n",
      " [2 5]\n",
      " [3 6]]\n"
     ]
    }
   ],
   "source": [
    "# Create a NumPy array\n",
    "original_array = np.array([[1, 2, 3], [4, 5, 6]])\n",
    "\n",
    "# Swap the axes using swapaxes()\n",
    "swapped_array = original_array.swapaxes(0, 1)\n",
    "\n",
    "# Transpose the array using transpose()\n",
    "transposed_array = original_array.transpose()\n",
    "\n",
    "print(\"Original Array:\")\n",
    "print(original_array)\n",
    "\n",
    "print(\"\\nSwapped Array:\")\n",
    "print(swapped_array)\n",
    "\n",
    "print(\"\\nTransposed Array:\")\n",
    "print(transposed_array)"
   ]
  },
  {
   "cell_type": "markdown",
   "id": "dbe77403",
   "metadata": {},
   "source": [
    "6. The `tolist()` function: Converts an array to a Python list."
   ]
  },
  {
   "cell_type": "code",
   "execution_count": 100,
   "id": "371d9c6e",
   "metadata": {},
   "outputs": [
    {
     "name": "stdout",
     "output_type": "stream",
     "text": [
      "NumPy Array: [1 2 3 4 5]\n",
      "Python List: [1, 2, 3, 4, 5]\n"
     ]
    }
   ],
   "source": [
    "# Create a NumPy array\n",
    "numpy_array = np.array([1, 2, 3, 4, 5])\n",
    "\n",
    "# Convert the NumPy array to a Python list\n",
    "python_list = numpy_array.tolist()\n",
    "\n",
    "print(\"NumPy Array:\", numpy_array)\n",
    "print(\"Python List:\", python_list)"
   ]
  },
  {
   "cell_type": "markdown",
   "id": "42402a69",
   "metadata": {},
   "source": [
    "### Exercise 3. Write a NumPy program to create a 2D array with 1 on the border and 0 inside."
   ]
  },
  {
   "attachments": {
    "python-numpy-image-exercise-8.png": {
     "image/png": "[encoded data removed]"
    }
   },
   "cell_type": "markdown",
   "id": "67c34711",
   "metadata": {},
   "source": [
    "![python-numpy-image-exercise-8.png](attachment:python-numpy-image-exercise-8.png)"
   ]
  },
  {
   "cell_type": "code",
   "execution_count": 8,
   "id": "2484452d",
   "metadata": {},
   "outputs": [
    {
     "name": "stdout",
     "output_type": "stream",
     "text": [
      "Original array:\n",
      "[[1. 1. 1. 1. 1.]\n",
      " [1. 1. 1. 1. 1.]\n",
      " [1. 1. 1. 1. 1.]\n",
      " [1. 1. 1. 1. 1.]\n",
      " [1. 1. 1. 1. 1.]]\n",
      "1 on the border and 0 inside in the array\n",
      "[[1. 1. 1. 1. 1.]\n",
      " [1. 0. 0. 0. 1.]\n",
      " [1. 0. 0. 0. 1.]\n",
      " [1. 0. 0. 0. 1.]\n",
      " [1. 1. 1. 1. 1.]]\n"
     ]
    }
   ],
   "source": [
    "x = np.ones((5,5))\n",
    "print(\"Original array:\")\n",
    "print(x)\n",
    "print(\"1 on the border and 0 inside in the array\")\n",
    "x[1:-1,1:-1] = 0\n",
    "print(x)"
   ]
  },
  {
   "cell_type": "markdown",
   "id": "40023edf",
   "metadata": {},
   "source": [
    "### Exercise 4: Write a NumPy program to convert Centigrade degrees into Fahrenheit degrees.\n",
    "In this exercise, you are required to write a NumPy program that converts temperatures from Centigrade (Celsius) to Fahrenheit. The formula for this conversion is:\n",
    "\n",
    "\n",
    "Fahrenheit = (Centigrade * 9/5) + 32\n",
    "\n",
    "\n",
    "You can use NumPy arrays to perform this conversion on a list of Centigrade temperatures efficiently."
   ]
  },
  {
   "cell_type": "code",
   "execution_count": 11,
   "id": "00b53005",
   "metadata": {},
   "outputs": [
    {
     "name": "stdout",
     "output_type": "stream",
     "text": [
      "Values in Fahrenheit degrees:\n",
      "[ 0.   12.   45.21 34.   99.91 32.  ]\n",
      "Values in  Centigrade degrees:\n",
      "[-17.78 -11.11   7.34   1.11  37.73   0.  ]\n"
     ]
    }
   ],
   "source": [
    "import numpy as np\n",
    "fvalues = [0, 12, 45.21, 34, 99.91, 32]\n",
    "F = np.array(fvalues)\n",
    "print(\"Values in Fahrenheit degrees:\")\n",
    "print(F)\n",
    "print(\"Values in  Centigrade degrees:\")\n",
    "print(np.round((5*F/9 - 5*32/9),2))"
   ]
  },
  {
   "cell_type": "code",
   "execution_count": null,
   "id": "4336f080",
   "metadata": {},
   "outputs": [],
   "source": []
  }
 ],
 "metadata": {
  "kernelspec": {
   "display_name": "Python 3 (ipykernel)",
   "language": "python",
   "name": "python3"
  },
  "language_info": {
   "codemirror_mode": {
    "name": "ipython",
    "version": 3
   },
   "file_extension": ".py",
   "mimetype": "text/x-python",
   "name": "python",
   "nbconvert_exporter": "python",
   "pygments_lexer": "ipython3",
   "version": "3.9.12"
  }
 },
 "nbformat": 4,
 "nbformat_minor": 5
}
