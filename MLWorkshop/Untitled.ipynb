{
 "cells": [
  {
   "cell_type": "markdown",
   "id": "472b6a09-c1d6-4a26-973c-19a8ae43353a",
   "metadata": {},
   "source": [
    "### In this workshop, we will cover Hidden Markov Model and some examples of ensembles.\n"
   ]
  },
  {
   "cell_type": "code",
   "execution_count": null,
   "id": "01b01e43-5901-4ba6-8cf7-2126bdba5be7",
   "metadata": {},
   "outputs": [],
   "source": []
  }
 ],
 "metadata": {
  "kernelspec": {
   "display_name": "Python 3 (ipykernel)",
   "language": "python",
   "name": "python3"
  },
  "language_info": {
   "codemirror_mode": {
    "name": "ipython",
    "version": 3
   },
   "file_extension": ".py",
   "mimetype": "text/x-python",
   "name": "python",
   "nbconvert_exporter": "python",
   "pygments_lexer": "ipython3",
   "version": "3.11.6"
  }
 },
 "nbformat": 4,
 "nbformat_minor": 5
}
